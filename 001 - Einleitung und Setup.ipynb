{
 "cells": [
  {
   "cell_type": "markdown",
   "metadata": {},
   "source": [
    "# Einleitung und Setup"
   ]
  },
  {
   "cell_type": "markdown",
   "metadata": {},
   "source": [
    "Über den Kurs, Motivation usw."
   ]
  },
  {
   "cell_type": "markdown",
   "metadata": {},
   "source": [
    "- Programmiercode ist nur Text, Python in `.py` Dateien\n",
    "- Skriptsprache: Code vom Python Interpreter (Kommandozeilenprogramm) ausgeführt, kein Kompilieren notwendig"
   ]
  },
  {
   "cell_type": "markdown",
   "metadata": {},
   "source": [
    "## Installation"
   ]
  },
  {
   "cell_type": "markdown",
   "metadata": {},
   "source": [
    "### Mac OS X"
   ]
  },
  {
   "cell_type": "markdown",
   "metadata": {},
   "source": [
    "Eine System-Version von Python ist unter Mac OS X bereits enthalten, doch um diese nicht zu stören installieren wir die aktuelle Version des Python Interpreters separat. Wie üblich für Kommandozeilenprogamme verwenden wir einen _Package Manager_. Wenn ihr diesbezüglich keine weiteren Präferenzen habt, installiert zunächst den Package Manager [Homebrew](http://brew.sh), indem ihr folgenden Befehl im Terminal ausführt:"
   ]
  },
  {
   "cell_type": "markdown",
   "metadata": {},
   "source": [
    "```bash\n",
    "# Installiere Homebrew\n",
    "ruby -e \"$(curl -fsSL https://raw.githubusercontent.com/Homebrew/install/master/install)\"\n",
    "```"
   ]
  },
  {
   "cell_type": "markdown",
   "metadata": {},
   "source": [
    "Anschließend installiert die aktuellste Python Version 3, sowie die ältere, jedoch noch immer häufig verwendete Python Version 2.7:"
   ]
  },
  {
   "cell_type": "markdown",
   "metadata": {},
   "source": [
    "```bash\n",
    "# Installiere Python 2.7 and 3.x\n",
    "brew install python python3\n",
    "```"
   ]
  },
  {
   "cell_type": "markdown",
   "metadata": {},
   "source": [
    "- Stattdessen `anaconda` verwenden?\n",
    "- `PATH` setzen"
   ]
  },
  {
   "cell_type": "markdown",
   "metadata": {},
   "source": [
    "## Python Code ausführen"
   ]
  },
  {
   "cell_type": "markdown",
   "metadata": {},
   "source": [
    "- Python shell\n",
    "- iPython shell\n",
    "- files:"
   ]
  },
  {
   "cell_type": "markdown",
   "metadata": {},
   "source": [
    "```bash\n",
    "python test.py\n",
    "```"
   ]
  },
  {
   "cell_type": "markdown",
   "metadata": {},
   "source": [
    "- Notebooks"
   ]
  },
  {
   "cell_type": "markdown",
   "metadata": {},
   "source": [
    "## Verwendung von Jupyter Notebook"
   ]
  },
  {
   "cell_type": "markdown",
   "metadata": {
    "collapsed": true
   },
   "source": [
    "- type `?` to get docs, `??` to get code\n",
    "- `%matplotlib inline`\n",
    "- `rcParams` für figure size"
   ]
  },
  {
   "cell_type": "markdown",
   "metadata": {},
   "source": [
    "## Verwendung der Sandbox?"
   ]
  },
  {
   "cell_type": "markdown",
   "metadata": {},
   "source": [
    "wird es eine geben?"
   ]
  }
 ],
 "metadata": {
  "kernelspec": {
   "display_name": "Python 3",
   "language": "python",
   "name": "python3"
  },
  "language_info": {
   "codemirror_mode": {
    "name": "ipython",
    "version": 3
   },
   "file_extension": ".py",
   "mimetype": "text/x-python",
   "name": "python",
   "nbconvert_exporter": "python",
   "pygments_lexer": "ipython3",
   "version": "3.5.1"
  }
 },
 "nbformat": 4,
 "nbformat_minor": 0
}

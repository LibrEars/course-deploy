{
 "cells": [
  {
   "cell_type": "markdown",
   "metadata": {},
   "source": [
    "# Python Einführungskurs für das Physikalische Anfängerpraktikum der Universität Heidelberg"
   ]
  },
  {
   "cell_type": "markdown",
   "metadata": {
    "slideshow": {
     "slide_type": "-"
    }
   },
   "source": [
    "## Inhalt\n",
    "\n",
    "- [101 - Grundlagen der Programmierung in Python](101 - Grundlagen der Programmierung in Python.ipynb)\n",
    "- [102 - Control Flow](102 - Control Flow.ipynb)\n",
    "- [103 - Funktionen und Module](103 - Funktionen und Module.ipynb)\n",
    "\n",
    "\n",
    "- [201 - Numerik mit Numpy](201 - Numerik mit Numpy.ipynb)\n",
    "- [202 - Plots mit Matplotlib](202 - Plots mit Matplotlib.ipynb)\n",
    "- [203 - Fits mit Scipy](203 - Fits mit Scipy.ipynb)"
   ]
  }
 ],
 "metadata": {
  "kernelspec": {
   "display_name": "Python 3",
   "language": "python",
   "name": "python3"
  },
  "language_info": {
   "codemirror_mode": {
    "name": "ipython",
    "version": 3
   },
   "file_extension": ".py",
   "mimetype": "text/x-python",
   "name": "python",
   "nbconvert_exporter": "python",
   "pygments_lexer": "ipython3",
   "version": "3.5.1"
  }
 },
 "nbformat": 4,
 "nbformat_minor": 0
}
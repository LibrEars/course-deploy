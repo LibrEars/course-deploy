{
 "metadata": {
  "name": "",
  "signature": "sha256:d31946a67bcadbf4a65d0dba84a9b2655ee651e7b998d5c592dac6a1c854a2e4"
 },
 "nbformat": 3,
 "nbformat_minor": 0,
 "worksheets": [
  {
   "cells": [
    {
     "cell_type": "heading",
     "level": 2,
     "metadata": {},
     "source": [
      "04. Numbers, Strings, and Dictionaries"
     ]
    },
    {
     "cell_type": "heading",
     "level": 3,
     "metadata": {},
     "source": [
      "Exercise 1"
     ]
    },
    {
     "cell_type": "code",
     "collapsed": false,
     "input": [
      "4 ** 3  # output is int"
     ],
     "language": "python",
     "metadata": {},
     "outputs": []
    },
    {
     "cell_type": "code",
     "collapsed": false,
     "input": [
      "2 + 3.4 ** 2  # output is float"
     ],
     "language": "python",
     "metadata": {},
     "outputs": []
    },
    {
     "cell_type": "code",
     "collapsed": false,
     "input": [
      "(1 + 1j) ** 2  # output is complex"
     ],
     "language": "python",
     "metadata": {},
     "outputs": []
    },
    {
     "cell_type": "heading",
     "level": 3,
     "metadata": {},
     "source": [
      "Exercise 2"
     ]
    },
    {
     "cell_type": "code",
     "collapsed": false,
     "input": [
      "# Define string\n",
      "a = \"Hello, egg world!\"\n",
      "\n",
      "# Find position of 'egg' word\n",
      "pos = a.index('egg')\n",
      "\n",
      "# Make new string\n",
      "new_string = a[:pos] + a[pos+4:]\n",
      "\n",
      "# Print out to check\n",
      "print(new_string)"
     ],
     "language": "python",
     "metadata": {},
     "outputs": []
    },
    {
     "cell_type": "heading",
     "level": 3,
     "metadata": {},
     "source": [
      "Exercise 3"
     ]
    },
    {
     "cell_type": "code",
     "collapsed": false,
     "input": [
      "s = \"CAGTACCAAGTGAAAGAT\"\n",
      "s.count(\"A\")"
     ],
     "language": "python",
     "metadata": {},
     "outputs": []
    },
    {
     "cell_type": "code",
     "collapsed": false,
     "input": [
      "a = [1, 2, 3]\n",
      "b = [4, 5, 6]\n",
      "a + b"
     ],
     "language": "python",
     "metadata": {},
     "outputs": []
    },
    {
     "cell_type": "heading",
     "level": 2,
     "metadata": {},
     "source": [
      "05. Booleans, Tuples, and Dictionaries"
     ]
    },
    {
     "cell_type": "heading",
     "level": 3,
     "metadata": {},
     "source": [
      "Exercise 1"
     ]
    },
    {
     "cell_type": "code",
     "collapsed": false,
     "input": [
      "x = 3.7\n",
      "(x > 3.4 and x <= 6.6) or x == 2"
     ],
     "language": "python",
     "metadata": {},
     "outputs": []
    },
    {
     "cell_type": "heading",
     "level": 3,
     "metadata": {},
     "source": [
      "Exercise 2"
     ]
    },
    {
     "cell_type": "code",
     "collapsed": false,
     "input": [
      "words = {}\n",
      "words['Table'] = 'Tisch'\n",
      "words['Chair'] = 'Stuhl'\n",
      "words['Snake'] = 'Schlange'"
     ],
     "language": "python",
     "metadata": {},
     "outputs": []
    },
    {
     "cell_type": "code",
     "collapsed": false,
     "input": [
      "words['Chair']"
     ],
     "language": "python",
     "metadata": {},
     "outputs": []
    },
    {
     "cell_type": "heading",
     "level": 2,
     "metadata": {},
     "source": [
      "06. Control Flow"
     ]
    },
    {
     "cell_type": "heading",
     "level": 3,
     "metadata": {},
     "source": [
      "Exercise 1 and 2"
     ]
    },
    {
     "cell_type": "code",
     "collapsed": false,
     "input": [
      "for i in range(2, 51):  # just to 50 for this example\n",
      "\n",
      "    # Set is_prime 'flag' to initial value\n",
      "    is_prime = True\n",
      "\n",
      "    # Try and divide i by all values between 2 and i-1, and if none of them\n",
      "    # work, then the value is prime.\n",
      "    for j in range(2, i):\n",
      "\n",
      "        # Check if i is divisible by j\n",
      "        if i % j == 0:\n",
      "            is_prime = False\n",
      "            break\n",
      "\n",
      "\n",
      "    if is_prime:\n",
      "        print(i)"
     ],
     "language": "python",
     "metadata": {},
     "outputs": []
    },
    {
     "cell_type": "markdown",
     "metadata": {},
     "source": [
      "There are other ways of doing this, e.g.:"
     ]
    },
    {
     "cell_type": "code",
     "collapsed": false,
     "input": [
      "for i in range(2, 51):\n",
      "    for j in range(2, i):\n",
      "        if i % j == 0:\n",
      "            break\n",
      "    else:  # this gets executed if break is not called\n",
      "        print(i)"
     ],
     "language": "python",
     "metadata": {},
     "outputs": []
    },
    {
     "cell_type": "heading",
     "level": 3,
     "metadata": {},
     "source": [
      "Exercise 2"
     ]
    },
    {
     "cell_type": "code",
     "collapsed": false,
     "input": [
      "a = 0\n",
      "b = 1\n",
      "while a < 100000:\n",
      "    print(a)\n",
      "    c = a  # save a to old variable\n",
      "    a = b\n",
      "    b = c + b"
     ],
     "language": "python",
     "metadata": {},
     "outputs": []
    },
    {
     "cell_type": "markdown",
     "metadata": {},
     "source": [
      "**Even simpler:**"
     ]
    },
    {
     "cell_type": "code",
     "collapsed": false,
     "input": [
      "a, b = 0, 1\n",
      "while a < 100000:\n",
      "    print(a)\n",
      "    a, b = b, a + b"
     ],
     "language": "python",
     "metadata": {},
     "outputs": []
    },
    {
     "cell_type": "markdown",
     "metadata": {},
     "source": [
      "**With a list:**"
     ]
    },
    {
     "cell_type": "code",
     "collapsed": false,
     "input": [
      "fib = [0, 1]\n",
      "while fib[-1] + fib[-2] < 100000:\n",
      "    fib.append(fib[-1] + fib[-2])\n",
      "print(fib)"
     ],
     "language": "python",
     "metadata": {},
     "outputs": []
    }
   ],
   "metadata": {}
  }
 ]
}
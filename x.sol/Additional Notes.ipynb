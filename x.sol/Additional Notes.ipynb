{
 "metadata": {
  "name": "",
  "signature": "sha256:d73ada40a94a9c7778763df75163e7637997be394b961518c8293579e7cc8006"
 },
 "nbformat": 3,
 "nbformat_minor": 0,
 "worksheets": [
  {
   "cells": [
    {
     "cell_type": "code",
     "collapsed": false,
     "input": [],
     "language": "python",
     "metadata": {},
     "outputs": []
    }
   ],
   "metadata": {}
  }
 ]
}
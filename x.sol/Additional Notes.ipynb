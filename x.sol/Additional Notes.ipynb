{
 "metadata": {
  "name": "",
  "signature": "sha256:adb4257565a0d35fc11c6075deb29fc57809363eee7f30c6e6196441cc4ab182"
 },
 "nbformat": 3,
 "nbformat_minor": 0,
 "worksheets": [
  {
   "cells": [
    {
     "cell_type": "heading",
     "level": 3,
     "metadata": {},
     "source": [
      "Rounding floating point numbers to integers"
     ]
    },
    {
     "cell_type": "markdown",
     "metadata": {},
     "source": [
      "By default, ``int`` will round floating point values **down**:"
     ]
    },
    {
     "cell_type": "code",
     "collapsed": false,
     "input": [
      "int(14.99)"
     ],
     "language": "python",
     "metadata": {},
     "outputs": []
    },
    {
     "cell_type": "markdown",
     "metadata": {},
     "source": [
      "If you want to round to the nearest integer, you can instead use ``round`` or ``np.round``:"
     ]
    },
    {
     "cell_type": "code",
     "collapsed": false,
     "input": [
      "round(14.9)"
     ],
     "language": "python",
     "metadata": {},
     "outputs": []
    },
    {
     "cell_type": "markdown",
     "metadata": {},
     "source": [
      "In Python 2, ``round(14.9)`` returns ``15.0`` so to be safe, you should do:"
     ]
    },
    {
     "cell_type": "code",
     "collapsed": false,
     "input": [
      "int(round(14.9))"
     ],
     "language": "python",
     "metadata": {},
     "outputs": []
    },
    {
     "cell_type": "heading",
     "level": 3,
     "metadata": {},
     "source": [
      "NaN values"
     ]
    },
    {
     "cell_type": "markdown",
     "metadata": {},
     "source": [
      "In arrays, some of the values are sometimes NaN - meaning *Not a Number*. If you multiply a NaN value by another value, you get NaN, and if there are any NaN values in a summation, the total result will be NaN. One way to get around this is to use ``np.nansum`` instead of ``np.sum`` in order to find the sum:"
     ]
    },
    {
     "cell_type": "code",
     "collapsed": false,
     "input": [
      "import numpy as np\n",
      "x = np.array([1,2,3,np.nan])"
     ],
     "language": "python",
     "metadata": {},
     "outputs": []
    },
    {
     "cell_type": "code",
     "collapsed": false,
     "input": [
      "np.nansum(x)"
     ],
     "language": "python",
     "metadata": {},
     "outputs": []
    },
    {
     "cell_type": "code",
     "collapsed": false,
     "input": [
      "np.nanmax(x)"
     ],
     "language": "python",
     "metadata": {},
     "outputs": []
    },
    {
     "cell_type": "markdown",
     "metadata": {},
     "source": [
      "You can also use ``np.isnan`` to tell you where values are NaN. For example, array[~np.isnan(array)] will return all the values that are not NaN (because ~ means 'not'):"
     ]
    },
    {
     "cell_type": "code",
     "collapsed": false,
     "input": [
      "np.isnan(x)"
     ],
     "language": "python",
     "metadata": {},
     "outputs": []
    },
    {
     "cell_type": "code",
     "collapsed": false,
     "input": [
      "x[np.isnan(x)]"
     ],
     "language": "python",
     "metadata": {},
     "outputs": []
    },
    {
     "cell_type": "code",
     "collapsed": false,
     "input": [
      "x[~np.isnan(x)]"
     ],
     "language": "python",
     "metadata": {},
     "outputs": []
    },
    {
     "cell_type": "heading",
     "level": 3,
     "metadata": {},
     "source": [
      "Problem Set 3 - notes"
     ]
    },
    {
     "cell_type": "markdown",
     "metadata": {},
     "source": [
      "For more information on doing a Monte-Carlo error propagation, see the Practice Problem and associated solution for Wednesday!"
     ]
    },
    {
     "cell_type": "markdown",
     "metadata": {},
     "source": [
      "Clarification: for the question **Read in the data and make a plot of the radial velocity in the file**, the question is to plot radial velocity versus time."
     ]
    }
   ],
   "metadata": {}
  }
 ]
}
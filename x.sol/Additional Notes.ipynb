{
 "metadata": {
  "name": "",
  "signature": "sha256:adb4257565a0d35fc11c6075deb29fc57809363eee7f30c6e6196441cc4ab182"
 },
 "nbformat": 3,
 "nbformat_minor": 0,
 "worksheets": [
  {
   "cells": [
    {
     "cell_type": "heading",
     "level": 3,
     "metadata": {},
     "source": [
      "Problem Set 3 - notes"
     ]
    },
    {
     "cell_type": "markdown",
     "metadata": {},
     "source": [
      "For more information on doing a Monte-Carlo error propagation, see the Practice Problem and associated solution for Wednesday!"
     ]
    },
    {
     "cell_type": "markdown",
     "metadata": {},
     "source": [
      "Clarification: for the question **Read in the data and make a plot of the radial velocity in the file**, the question is to plot radial velocity versus time."
     ]
    }
   ],
   "metadata": {}
  }
 ]
}
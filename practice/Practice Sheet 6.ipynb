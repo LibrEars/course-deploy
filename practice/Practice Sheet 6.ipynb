{
 "metadata": {
  "name": ""
 },
 "nbformat": 3,
 "nbformat_minor": 0,
 "worksheets": [
  {
   "cells": [
    {
     "cell_type": "markdown",
     "metadata": {},
     "source": [
      "Practice Sheet 6\n",
      "================\n",
      "\n",
      "Problem 1\n",
      "---------\n",
      "\n",
      "The following questions are just to test your understanding of the variable assignment - you don't need to write any code - just try and think of what the output will be, then you can try it out to check if you got it right:\n",
      "\n",
      "What will ``a`` be after the following?\n",
      "\n",
      "    a = [1, 3., [1, 2, 3], 'hello']\n",
      "    b = a[0]\n",
      "    b = 4.\n",
      "\n",
      "What will ``c`` be after the following?\n",
      "\n",
      "    c = [1, 3., [1, 2, 3], 'hello']\n",
      "    d = c[2]\n",
      "    d.append(8)\n",
      "\n",
      "What will ``e`` be after the following?\n",
      "\n",
      "    e = [1, 3., [1, 2, 3], 'hello']\n",
      "    f = e[2]\n",
      "    f = [1, 2]\n",
      "\n",
      "What will ``g`` be after the following?\n",
      "\n",
      "    g = [1, 2, 3, 4]\n",
      "    h = g[::2]\n",
      "    h[0] = 9\n",
      "\n",
      "What will ``i`` be after the following?\n",
      "\n",
      "    import numpy as np\n",
      "    i = np.array([1, 2, 3, 4])\n",
      "    j = i[::2]\n",
      "    j[0] = 9"
     ]
    }
   ],
   "metadata": {}
  }
 ]
}
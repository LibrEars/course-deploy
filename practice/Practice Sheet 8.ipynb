{
 "metadata": {
  "name": ""
 },
 "nbformat": 3,
 "nbformat_minor": 0,
 "worksheets": [
  {
   "cells": [
    {
     "cell_type": "heading",
     "level": 1,
     "metadata": {},
     "source": [
      "Practice Sheet 8"
     ]
    },
    {
     "cell_type": "markdown",
     "metadata": {},
     "source": [
      "1. Write a ``Particle`` class that can be used to represent a particle with a mass, a 3-d position, and a 3-d velocity.\n",
      "\n",
      "2. Write a method that can be used to compute the kinetic energy of the particle\n",
      "\n",
      "3. Write a method that takes another particle as an argument and finds the distance between the two particles\n",
      "\n",
      "4. Write a method that given a time interval ``dt`` will update the position of the particle to the new position based on the current position and velocity.\n",
      "\n",
      "5. Write a ``ChargedParticle`` class that inherits from the ``Particle`` class, but also has an attribute for the charge of the particle.\n",
      "\n",
      "6. Write examples of using these classes to test that the methods are working correctly."
     ]
    }
   ],
   "metadata": {}
  }
 ]
}
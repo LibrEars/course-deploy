{
 "metadata": {
  "name": ""
 },
 "nbformat": 3,
 "nbformat_minor": 0,
 "worksheets": [
  {
   "cells": [
    {
     "cell_type": "heading",
     "level": 1,
     "metadata": {},
     "source": [
      "Practice Sheet 7"
     ]
    },
    {
     "cell_type": "heading",
     "level": 2,
     "metadata": {},
     "source": [
      "Problem 1"
     ]
    },
    {
     "cell_type": "markdown",
     "metadata": {},
     "source": [
      "You can find over 2000 tiles of the Arctic ice coverage data using the URL with the format:\n",
      "\n",
      "    http://mpia.de/~robitaille/share/ice_data/YYYYMMDD.npy\n",
      "    \n",
      "Write a Python function that takes three arguments - the year, month, and day, as integers, and returns a Numpy array. If the map does not exist, try and return ``None`` instead of having an error."
     ]
    },
    {
     "cell_type": "heading",
     "level": 2,
     "metadata": {},
     "source": [
      "Problem 2"
     ]
    },
    {
     "cell_type": "markdown",
     "metadata": {},
     "source": [
      "Using [http://openweathermap.org/API](http://openweathermap.org/API), can you make a map of temperatures in Germany? You can use [this](data/germany.txt) file which gives the longitude and latitude of the borders of Germany, for plotting."
     ]
    }
   ],
   "metadata": {}
  }
 ]
}
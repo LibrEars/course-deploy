{
 "metadata": {
  "name": ""
 },
 "nbformat": 3,
 "nbformat_minor": 0,
 "worksheets": [
  {
   "cells": [
    {
     "cell_type": "heading",
     "level": 1,
     "metadata": {},
     "source": [
      "Practice Problem - Radioactive Decay - Sample Solution"
     ]
    },
    {
     "cell_type": "code",
     "collapsed": false,
     "input": [
      "import numpy as np\n",
      "%matplotlib inline\n",
      "import matplotlib.pyplot as plt"
     ],
     "language": "python",
     "metadata": {},
     "outputs": [],
     "prompt_number": 1
    },
    {
     "cell_type": "markdown",
     "metadata": {},
     "source": [
      "We start off by reading in the data"
     ]
    },
    {
     "cell_type": "code",
     "collapsed": false,
     "input": [
      "x, y, e = np.loadtxt('data/decay_data.txt', unpack=True)"
     ],
     "language": "python",
     "metadata": {},
     "outputs": [],
     "prompt_number": 2
    },
    {
     "cell_type": "markdown",
     "metadata": {},
     "source": [
      "And we can make a plot with error bars (and axis labels):"
     ]
    },
    {
     "cell_type": "code",
     "collapsed": false,
     "input": [
      "plt.errorbar(x, y, yerr=e, fmt=\"none\")\n",
      "plt.xlabel(\"time [d]\")\n",
      "plt.ylabel(\"decay rate [s^-1]\")"
     ],
     "language": "python",
     "metadata": {},
     "outputs": [
      {
       "output_type": "pyout",
       "prompt_number": 3,
       "text": [
        "<matplotlib.text.Text at 0x108726f60>"
       ]
      },
      {
       "output_type": "display_data",
       "png": "[encoded data removed]",
       "text": [
        "<matplotlib.figure.Figure at 0x108700b38>"
       ]
      }
     ],
     "prompt_number": 3
    },
    {
     "cell_type": "markdown",
     "metadata": {},
     "source": [
      "We now use curve_fit to fit the data and print out the best-fit parameters and uncertainties:"
     ]
    },
    {
     "cell_type": "code",
     "collapsed": false,
     "input": [
      "from scipy.optimize import curve_fit\n",
      "\n",
      "# Define function without background\n",
      "def decay_rate(x, n_0, tau):\n",
      "    return n_0 * np.exp(-(x / tau))\n",
      "\n",
      "# Carry out the fit\n",
      "popt1, pcov1 = curve_fit(decay_rate, x, y, sigma=e)\n",
      "\n",
      "# Print out result\n",
      "print(\"Initial fit (no background)\")\n",
      "print(\"N_0 =\", popt1[0], \"+/-\", pcov1[0,0]**0.5, \"s^-1\")\n",
      "print(\"tau =\", popt1[1], \"+/-\", pcov1[1,1]**0.5, \"days\")"
     ],
     "language": "python",
     "metadata": {},
     "outputs": [
      {
       "output_type": "stream",
       "stream": "stdout",
       "text": [
        "Initial fit (no background)\n",
        "N_0 = 1.32124839902 +/- 0.105583955348 s^-1\n",
        "tau = 8.88344297332 +/- 0.620223072222 days\n"
       ]
      }
     ],
     "prompt_number": 4
    },
    {
     "cell_type": "markdown",
     "metadata": {},
     "source": [
      "We can now plot the best-fit model:"
     ]
    },
    {
     "cell_type": "code",
     "collapsed": false,
     "input": [
      "plt.errorbar(x, y, yerr=e, fmt=None)\n",
      "plt.plot(x, decay_rate(x, popt1[0], popt1[1]), 'r-')\n",
      "plt.xlabel(\"time [d]\")\n",
      "plt.ylabel(\"decay rate [s^-1]\")"
     ],
     "language": "python",
     "metadata": {},
     "outputs": [
      {
       "output_type": "stream",
       "stream": "stderr",
       "text": [
        "/Volumes/Raptor/miniconda3/envs/production/lib/python3.4/site-packages/matplotlib/axes/_axes.py:2651: MatplotlibDeprecationWarning: Use of None object as fmt keyword argument to suppress plotting of data values is deprecated since 1.4; use the string \"none\" instead.\n",
        "  warnings.warn(msg, mplDeprecation, stacklevel=1)\n"
       ]
      },
      {
       "output_type": "pyout",
       "prompt_number": 5,
       "text": [
        "<matplotlib.text.Text at 0x10b22aa90>"
       ]
      },
      {
       "output_type": "display_data",
       "png": "[encoded data removed]",
       "text": [
        "<matplotlib.figure.Figure at 0x1025cda58>"
       ]
      }
     ],
     "prompt_number": 5
    },
    {
     "cell_type": "markdown",
     "metadata": {},
     "source": [
      "We can now repeat the fitting with a model that includes a background:"
     ]
    },
    {
     "cell_type": "code",
     "collapsed": false,
     "input": [
      "# Define function with background\n",
      "def decay_rate_bkg(x, n_0, tau, n_bkg):\n",
      "    return n_0 * np.exp(-(x / tau)) + n_bkg\n",
      "\n",
      "# Carry out the fit\n",
      "popt2, pcov2 = curve_fit(decay_rate_bkg, x, y, sigma=e)\n",
      "\n",
      "# Print out result\n",
      "print(\"Updated fit (with background)\")\n",
      "print(\"N_0 =\", popt2[0], \"+/-\", pcov2[0,0]**0.5, \"s^-1\")\n",
      "print(\"tau =\", popt2[1], \"+/-\", pcov2[1,1]**0.5, \"days\")\n",
      "print(\"N_bkg =\", popt2[2], \"+/-\", pcov2[2,2]**0.5, \"s^-1\")"
     ],
     "language": "python",
     "metadata": {},
     "outputs": [
      {
       "output_type": "stream",
       "stream": "stdout",
       "text": [
        "Updated fit (with background)\n",
        "N_0 = 2.03895771012 +/- 0.0731325297778 s^-1\n",
        "tau = 3.82202620563 +/- 0.146410551684 days\n",
        "N_bkg = 0.146625000348 +/- 0.00533678834135 s^-1\n"
       ]
      }
     ],
     "prompt_number": 6
    },
    {
     "cell_type": "markdown",
     "metadata": {},
     "source": [
      "and plotting the best-fit again, we see that the fit is much better:"
     ]
    },
    {
     "cell_type": "code",
     "collapsed": false,
     "input": [
      "plt.errorbar(x, y, yerr=e, fmt=None)\n",
      "plt.plot(x, decay_rate_bkg(x, popt2[0], popt2[1], popt2[2]), 'r-')\n",
      "plt.axhline(popt2[2], ls='dashed', color='black')\n",
      "plt.xlabel(\"time [d]\")\n",
      "plt.ylabel(\"decay rate [s^-1]\")"
     ],
     "language": "python",
     "metadata": {},
     "outputs": [
      {
       "output_type": "stream",
       "stream": "stderr",
       "text": [
        "/Volumes/Raptor/miniconda3/envs/production/lib/python3.4/site-packages/matplotlib/axes/_axes.py:2651: MatplotlibDeprecationWarning: Use of None object as fmt keyword argument to suppress plotting of data values is deprecated since 1.4; use the string \"none\" instead.\n",
        "  warnings.warn(msg, mplDeprecation, stacklevel=1)\n"
       ]
      },
      {
       "output_type": "pyout",
       "prompt_number": 7,
       "text": [
        "<matplotlib.text.Text at 0x10b363ac8>"
       ]
      },
      {
       "output_type": "display_data",
       "png": "[encoded data removed]",
       "text": [
        "<matplotlib.figure.Figure at 0x10b222da0>"
       ]
      }
     ],
     "prompt_number": 7
    },
    {
     "cell_type": "code",
     "collapsed": false,
     "input": [
      "def chi2(data, error, model):\n",
      "    return np.sum((data - model)**2 / error**2)\n",
      "\n",
      "print(\"Reduced chi^2:\")\n",
      "print(\"No background = \", chi2(y, e, decay_rate(x, popt1[0], popt1[1])) / (len(x) - 3.))\n",
      "print(\"With background = \", chi2(y, e, decay_rate_bkg(x, popt2[0], popt2[1], popt2[2])) / (len(x) - 4.))"
     ],
     "language": "python",
     "metadata": {},
     "outputs": [
      {
       "output_type": "stream",
       "stream": "stdout",
       "text": [
        "Reduced chi^2:\n",
        "No background =  6.80430602397\n",
        "With background =  1.05140379967\n"
       ]
      }
     ],
     "prompt_number": 8
    },
    {
     "cell_type": "markdown",
     "metadata": {},
     "source": [
      "As we can see, the model with a background is a better fit!"
     ]
    }
   ],
   "metadata": {}
  }
 ]
}
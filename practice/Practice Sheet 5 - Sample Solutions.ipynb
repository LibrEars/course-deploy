{
 "metadata": {
  "name": ""
 },
 "nbformat": 3,
 "nbformat_minor": 0,
 "worksheets": [
  {
   "cells": [
    {
     "cell_type": "heading",
     "level": 1,
     "metadata": {},
     "source": [
      "Practice Sheet 5 - Sample Solutions"
     ]
    },
    {
     "cell_type": "heading",
     "level": 2,
     "metadata": {},
     "source": [
      "Problem 1"
     ]
    },
    {
     "cell_type": "code",
     "collapsed": false,
     "input": [
      "days = []\n",
      "temperatures = []\n",
      "\n",
      "for line in open('munich_temperatures_average_with_bad_data.txt', 'r'):\n",
      "    \n",
      "    day, temperature = line.strip().split()\n",
      "    \n",
      "    # day and temperature are strings so we need to convert them\n",
      "    # when we append them to the lists\n",
      "    days.append(float(day))\n",
      "    temperatures.append(float(temperature))\n",
      "\n",
      "# The above gives us lists, but easier if we now convert to arrays\n",
      "days = np.array(days)\n",
      "temperatures = np.array(temperatures)\n",
      "\n",
      "# filtering bad data\n",
      "keep = (temperatures > -90.) & (temperatures < 90.)\n",
      "days = days[keep]\n",
      "temperatures = temperatures[keep]\n",
      "\n",
      "# define periodic function\n",
      "def tfunc(x, a, b, c):\n",
      "    return a * np.cos(x * 6.28 + b) + c\n",
      "\n",
      "# fit function to data\n",
      "from scipy.optimize import curve_fit\n",
      "popt, pcov = curve_fit(tfunc, days, temperatures)\n",
      "\n",
      "# make a plot of the fit\n",
      "plt.plot(days, temperatures, '.')\n",
      "plt.plot(days, tfunc(days, *popt), 'r-', lw=2)\n",
      "plt.xlim(2008., 2012.)\n"
     ],
     "language": "python",
     "metadata": {},
     "outputs": [
      {
       "ename": "IOError",
       "evalue": "[Errno 2] No such file or directory: 'munich_temperatures_average_with_bad_data.txt'",
       "output_type": "pyerr",
       "traceback": [
        "\u001b[0;31m---------------------------------------------------------------------------\u001b[0m\n\u001b[0;31mIOError\u001b[0m                                   Traceback (most recent call last)",
        "\u001b[0;32m<ipython-input-1-8f6589be8389>\u001b[0m in \u001b[0;36m<module>\u001b[0;34m()\u001b[0m\n\u001b[1;32m      2\u001b[0m \u001b[0mtemperatures\u001b[0m \u001b[0;34m=\u001b[0m \u001b[0;34m[\u001b[0m\u001b[0;34m]\u001b[0m\u001b[0;34m\u001b[0m\u001b[0m\n\u001b[1;32m      3\u001b[0m \u001b[0;34m\u001b[0m\u001b[0m\n\u001b[0;32m----> 4\u001b[0;31m \u001b[0;32mfor\u001b[0m \u001b[0mline\u001b[0m \u001b[0;32min\u001b[0m \u001b[0mopen\u001b[0m\u001b[0;34m(\u001b[0m\u001b[0;34m'munich_temperatures_average_with_bad_data.txt'\u001b[0m\u001b[0;34m,\u001b[0m \u001b[0;34m'r'\u001b[0m\u001b[0;34m)\u001b[0m\u001b[0;34m:\u001b[0m\u001b[0;34m\u001b[0m\u001b[0m\n\u001b[0m\u001b[1;32m      5\u001b[0m \u001b[0;34m\u001b[0m\u001b[0m\n\u001b[1;32m      6\u001b[0m     \u001b[0mday\u001b[0m\u001b[0;34m,\u001b[0m \u001b[0mtemperature\u001b[0m \u001b[0;34m=\u001b[0m \u001b[0mline\u001b[0m\u001b[0;34m.\u001b[0m\u001b[0mstrip\u001b[0m\u001b[0;34m(\u001b[0m\u001b[0;34m)\u001b[0m\u001b[0;34m.\u001b[0m\u001b[0msplit\u001b[0m\u001b[0;34m(\u001b[0m\u001b[0;34m)\u001b[0m\u001b[0;34m\u001b[0m\u001b[0m\n",
        "\u001b[0;31mIOError\u001b[0m: [Errno 2] No such file or directory: 'munich_temperatures_average_with_bad_data.txt'"
       ]
      }
     ],
     "prompt_number": 1
    },
    {
     "cell_type": "code",
     "collapsed": false,
     "input": [
      "print \"Overall Average temperature: \", popt[2], \"C\"\n",
      "print \"Typical minimum average: \", popt[2] - popt[0], \"C\"\n",
      "print \"Typical maximum average: \", popt[2] + popt[0], \"C\""
     ],
     "language": "python",
     "metadata": {},
     "outputs": [
      {
       "ename": "NameError",
       "evalue": "name 'popt' is not defined",
       "output_type": "pyerr",
       "traceback": [
        "\u001b[0;31m---------------------------------------------------------------------------\u001b[0m\n\u001b[0;31mNameError\u001b[0m                                 Traceback (most recent call last)",
        "\u001b[0;32m<ipython-input-2-97361eb44d35>\u001b[0m in \u001b[0;36m<module>\u001b[0;34m()\u001b[0m\n\u001b[0;32m----> 1\u001b[0;31m \u001b[0;32mprint\u001b[0m \u001b[0;34m\"Overall Average temperature: \"\u001b[0m\u001b[0;34m,\u001b[0m \u001b[0mpopt\u001b[0m\u001b[0;34m[\u001b[0m\u001b[0;36m2\u001b[0m\u001b[0;34m]\u001b[0m\u001b[0;34m,\u001b[0m \u001b[0;34m\"C\"\u001b[0m\u001b[0;34m\u001b[0m\u001b[0m\n\u001b[0m\u001b[1;32m      2\u001b[0m \u001b[0;32mprint\u001b[0m \u001b[0;34m\"Typical minimum average: \"\u001b[0m\u001b[0;34m,\u001b[0m \u001b[0mpopt\u001b[0m\u001b[0;34m[\u001b[0m\u001b[0;36m2\u001b[0m\u001b[0;34m]\u001b[0m \u001b[0;34m-\u001b[0m \u001b[0mpopt\u001b[0m\u001b[0;34m[\u001b[0m\u001b[0;36m0\u001b[0m\u001b[0;34m]\u001b[0m\u001b[0;34m,\u001b[0m \u001b[0;34m\"C\"\u001b[0m\u001b[0;34m\u001b[0m\u001b[0m\n\u001b[1;32m      3\u001b[0m \u001b[0;32mprint\u001b[0m \u001b[0;34m\"Typical maximum average: \"\u001b[0m\u001b[0;34m,\u001b[0m \u001b[0mpopt\u001b[0m\u001b[0;34m[\u001b[0m\u001b[0;36m2\u001b[0m\u001b[0;34m]\u001b[0m \u001b[0;34m+\u001b[0m \u001b[0mpopt\u001b[0m\u001b[0;34m[\u001b[0m\u001b[0;36m0\u001b[0m\u001b[0;34m]\u001b[0m\u001b[0;34m,\u001b[0m \u001b[0;34m\"C\"\u001b[0m\u001b[0;34m\u001b[0m\u001b[0m\n",
        "\u001b[0;31mNameError\u001b[0m: name 'popt' is not defined"
       ]
      },
      {
       "output_type": "stream",
       "stream": "stdout",
       "text": [
        "Overall Average temperature: "
       ]
      }
     ],
     "prompt_number": 2
    },
    {
     "cell_type": "code",
     "collapsed": false,
     "input": [
      "print \"Phase: \", popt[1]"
     ],
     "language": "python",
     "metadata": {},
     "outputs": [
      {
       "ename": "NameError",
       "evalue": "name 'popt' is not defined",
       "output_type": "pyerr",
       "traceback": [
        "\u001b[0;31m---------------------------------------------------------------------------\u001b[0m\n\u001b[0;31mNameError\u001b[0m                                 Traceback (most recent call last)",
        "\u001b[0;32m<ipython-input-3-3d9c409191f1>\u001b[0m in \u001b[0;36m<module>\u001b[0;34m()\u001b[0m\n\u001b[0;32m----> 1\u001b[0;31m \u001b[0;32mprint\u001b[0m \u001b[0;34m\"Phase: \"\u001b[0m\u001b[0;34m,\u001b[0m \u001b[0mpopt\u001b[0m\u001b[0;34m[\u001b[0m\u001b[0;36m1\u001b[0m\u001b[0;34m]\u001b[0m\u001b[0;34m\u001b[0m\u001b[0m\n\u001b[0m",
        "\u001b[0;31mNameError\u001b[0m: name 'popt' is not defined"
       ]
      },
      {
       "output_type": "stream",
       "stream": "stdout",
       "text": [
        " Phase: "
       ]
      }
     ],
     "prompt_number": 3
    },
    {
     "cell_type": "markdown",
     "metadata": {},
     "source": [
      "This is approximately $3\\pi$, i.e. $\\pi$, which ensures that the maximum of the cosine occurs for $t = 0.5 + n$, i.e. in the middle of the year."
     ]
    },
    {
     "cell_type": "heading",
     "level": 2,
     "metadata": {},
     "source": [
      "Problem 2"
     ]
    },
    {
     "cell_type": "markdown",
     "metadata": {},
     "source": [
      "We start off by reading in the data"
     ]
    },
    {
     "cell_type": "code",
     "collapsed": false,
     "input": [
      "x, y, e = np.loadtxt('data/decay_data.txt', unpack=True)"
     ],
     "language": "python",
     "metadata": {},
     "outputs": [
      {
       "output_type": "stream",
       "stream": "stdout",
       "text": [
        "\n"
       ]
      }
     ],
     "prompt_number": 4
    },
    {
     "cell_type": "markdown",
     "metadata": {},
     "source": [
      "And we can make a plot with error bars (and axis labels):"
     ]
    },
    {
     "cell_type": "code",
     "collapsed": false,
     "input": [
      "plt.errorbar(x, y, yerr=e, fmt=None)\n",
      "plt.xlabel(\"time [d]\")\n",
      "plt.ylabel(\"decay rate [s^-1]\")"
     ],
     "language": "python",
     "metadata": {},
     "outputs": [
      {
       "output_type": "pyout",
       "prompt_number": 5,
       "text": [
        "<matplotlib.text.Text at 0x112cf1e50>"
       ]
      },
      {
       "output_type": "display_data",
       "png": "[encoded data removed]",
       "text": [
        "<matplotlib.figure.Figure at 0x112ceac50>"
       ]
      }
     ],
     "prompt_number": 5
    },
    {
     "cell_type": "markdown",
     "metadata": {},
     "source": [
      "We now use curve_fit to fit the data and print out the best-fit parameters and uncertainties:"
     ]
    },
    {
     "cell_type": "code",
     "collapsed": false,
     "input": [
      "from scipy.optimize import curve_fit\n",
      "\n",
      "# Define function without background\n",
      "def decay_rate(x, n_0, tau):\n",
      "    return n_0 * np.exp(-(x / tau))\n",
      "\n",
      "# Carry out the fit\n",
      "popt1, pcov1 = curve_fit(decay_rate, x, y, sigma=e)\n",
      "\n",
      "# Print out result\n",
      "print \"Initial fit (no background)\"\n",
      "print \"N_0 =\", popt1[0], \"+/-\", pcov1[0,0]**0.5, \"s^-1\"\n",
      "print \"tau =\", popt1[1], \"+/-\", pcov1[1,1]**0.5, \"days\""
     ],
     "language": "python",
     "metadata": {},
     "outputs": [
      {
       "output_type": "stream",
       "stream": "stdout",
       "text": [
        "Initial fit (no background)\n",
        "N_0 = 1.32124839902 +/- 0.105583955348 s^-1\n",
        "tau = 8.88344297332 +/- 0.620223072222 days\n"
       ]
      }
     ],
     "prompt_number": 6
    },
    {
     "cell_type": "markdown",
     "metadata": {},
     "source": [
      "We can now plot the best-fit model:"
     ]
    },
    {
     "cell_type": "code",
     "collapsed": false,
     "input": [
      "plt.errorbar(x, y, yerr=e, fmt=None)\n",
      "plt.plot(x, decay_rate(x, popt1[0], popt1[1]), 'r-')\n",
      "plt.xlabel(\"time [d]\")\n",
      "plt.ylabel(\"decay rate [s^-1]\")"
     ],
     "language": "python",
     "metadata": {},
     "outputs": [
      {
       "output_type": "pyout",
       "prompt_number": 7,
       "text": [
        "<matplotlib.text.Text at 0x113ac2f90>"
       ]
      },
      {
       "output_type": "display_data",
       "png": "[encoded data removed]",
       "text": [
        "<matplotlib.figure.Figure at 0x112d2ae50>"
       ]
      }
     ],
     "prompt_number": 7
    },
    {
     "cell_type": "markdown",
     "metadata": {},
     "source": [
      "We can now repeat the fitting with a model that includes a background:"
     ]
    },
    {
     "cell_type": "code",
     "collapsed": false,
     "input": [
      "# Define function with background\n",
      "def decay_rate_bkg(x, n_0, tau, n_bkg):\n",
      "    return n_0 * np.exp(-(x / tau)) + n_bkg\n",
      "\n",
      "# Carry out the fit\n",
      "popt2, pcov2 = curve_fit(decay_rate_bkg, x, y, sigma=e)\n",
      "\n",
      "# Print out result\n",
      "print \"Updated fit (with background)\"\n",
      "print \"N_0 =\", popt2[0], \"+/-\", pcov2[0,0]**0.5, \"s^-1\"\n",
      "print \"tau =\", popt2[1], \"+/-\", pcov2[1,1]**0.5, \"days\"\n",
      "print \"N_bkg =\", popt2[2], \"+/-\", pcov2[2,2]**0.5, \"s^-1\""
     ],
     "language": "python",
     "metadata": {},
     "outputs": [
      {
       "output_type": "stream",
       "stream": "stdout",
       "text": [
        "Updated fit (with background)\n",
        "N_0 = 2.03895771012 +/- 0.0731325297778 s^-1\n",
        "tau = 3.82202620563 +/- 0.146410551684 days\n",
        "N_bkg = 0.146625000348 +/- 0.00533678834135 s^-1\n"
       ]
      }
     ],
     "prompt_number": 8
    },
    {
     "cell_type": "markdown",
     "metadata": {},
     "source": [
      "and plotting the best-fit again, we see that the fit is much better:"
     ]
    },
    {
     "cell_type": "code",
     "collapsed": false,
     "input": [
      "plt.errorbar(x, y, yerr=e, fmt=None)\n",
      "plt.plot(x, decay_rate_bkg(x, popt2[0], popt2[1], popt2[2]), 'r-')\n",
      "plt.axhline(popt2[2], ls='dashed', color='black')\n",
      "plt.xlabel(\"time [d]\")\n",
      "plt.ylabel(\"decay rate [s^-1]\")"
     ],
     "language": "python",
     "metadata": {},
     "outputs": [
      {
       "output_type": "pyout",
       "prompt_number": 9,
       "text": [
        "<matplotlib.text.Text at 0x113ae81d0>"
       ]
      },
      {
       "output_type": "display_data",
       "png": "[encoded data removed]",
       "text": [
        "<matplotlib.figure.Figure at 0x112cedb90>"
       ]
      }
     ],
     "prompt_number": 9
    },
    {
     "cell_type": "code",
     "collapsed": false,
     "input": [
      "def chi2(data, error, model):\n",
      "    return np.sum((data - model)**2 / error**2)\n",
      "\n",
      "print \"Reduced chi^2:\"\n",
      "print \"No background = \", chi2(y, e, decay_rate(x, popt1[0], popt1[1])) / (len(x) - 3.)\n",
      "print \"With background = \", chi2(y, e, decay_rate_bkg(x, popt2[0], popt2[1], popt2[2])) / (len(x) - 4.)"
     ],
     "language": "python",
     "metadata": {},
     "outputs": [
      {
       "output_type": "stream",
       "stream": "stdout",
       "text": [
        "Reduced chi^2:\n",
        "No background =  6.80430602397\n",
        "With background =  1.05140379967\n"
       ]
      }
     ],
     "prompt_number": 10
    },
    {
     "cell_type": "markdown",
     "metadata": {},
     "source": [
      "As we can see, the model with a background is a better fit!"
     ]
    }
   ],
   "metadata": {}
  }
 ]
}
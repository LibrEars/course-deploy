{
 "metadata": {
  "name": "",
  "signature": "sha256:0915ecb87ea0fb3393b212bee4a55e3a8d413ea790d0f27fcd46eec63136cecd"
 },
 "nbformat": 3,
 "nbformat_minor": 0,
 "worksheets": [
  {
   "cells": [
    {
     "cell_type": "heading",
     "level": 1,
     "metadata": {},
     "source": [
      "Practice Problem - Map of temperatures over Germany"
     ]
    },
    {
     "cell_type": "markdown",
     "metadata": {},
     "source": [
      "Using [http://openweathermap.org/API](http://openweathermap.org/API), can you make a map of temperatures in Germany? You can use [this](data/germany.txt) file which gives the longitude and latitude of the borders of Germany, for plotting."
     ]
    }
   ],
   "metadata": {}
  }
 ]
}
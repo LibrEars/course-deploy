{
 "metadata": {
  "name": "",
  "signature": "sha256:f4843945d92a7d5d97c955e9d6cef1f84fe672756df25aee3bd395e870a81d18"
 },
 "nbformat": 3,
 "nbformat_minor": 0,
 "worksheets": [
  {
   "cells": [
    {
     "cell_type": "heading",
     "level": 1,
     "metadata": {},
     "source": [
      "Practice Problem - Temperatures"
     ]
    },
    {
     "cell_type": "markdown",
     "metadata": {},
     "source": [
      "Download [this](data/munich_temperatures_average.txt) data file, which gives the temperature in Munich every day for several years. Read in the data, and print out the minimum, average maximum temperature for each year, e.g:\n",
      "\n",
      "    1995: -3C  10C  35C\n",
      "    1996: ...\n",
      "    \n",
      "You can also try and print out the same values, but for each month (averaged over years), e.g.:\n",
      "\n",
      "    January: -15C 0C 3C\n",
      "    February: ..."
     ]
    }
   ],
   "metadata": {}
  }
 ]
}
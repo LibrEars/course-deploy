{
 "metadata": {
  "name": ""
 },
 "nbformat": 3,
 "nbformat_minor": 0,
 "worksheets": [
  {
   "cells": [
    {
     "cell_type": "markdown",
     "metadata": {
      "slideshow": {
       "slide_type": "slide"
      }
     },
     "source": [
      "About the course\n",
      "================"
     ]
    },
    {
     "cell_type": "markdown",
     "metadata": {
      "slideshow": {
       "slide_type": "slide"
      }
     },
     "source": [
      "About myself\n",
      "------------\n",
      "\n",
      "My name is [Thomas Robitaille](http://mpia.de/~robitaille/) and I am the leader of a research group at the Max Planck Institut f\u00fcr Astronomie. I carry out research on star formation in the Milky-Way and other galaxies, and I use Python for my daily work.\n",
      "\n",
      "I have developed a number of Python packages for Astronomers, including [APLpy](http://aplpy.github.io), [ATpy](http://atpy.github.io), [Montage-wrapper](http://www.astropy.org/montage-wrapper/), [PyAVM](https://github.com/astrofrog/pyavm). I have also contributed to [Scipy](http://www.scipy.org) and other scientific packages, and am one of the project leaders for [Astropy](http://www.astropy.org), which is a big project to create one main Python package for Astronomy.\n",
      "\n",
      "![](http://mpia.de/~robitaille/glimpse.png)\n",
      "\n",
      "You can contact me at **robitaille@mpia.de**.\n",
      "\n",
      "Please let me know if you have feedback/suggestions for improving the course!"
     ]
    },
    {
     "cell_type": "markdown",
     "metadata": {
      "slideshow": {
       "slide_type": "slide"
      }
     },
     "source": [
      "Topics\n",
      "------\n",
      "\n",
      "- Introduction to Python\n",
      "- Modules and Functions\n",
      "- Introduction to Numpy and Matplotlib\n",
      "- Reading/writing data from files\n",
      "- Introduction to Scipy (interpolation, integration, fitting)\n",
      "- Using the IPython Notebook\n",
      "- Speeding up Python\n",
      "- Object-oriented programming"
     ]
    },
    {
     "cell_type": "markdown",
     "metadata": {
      "slideshow": {
       "slide_type": "notes"
      }
     },
     "source": [
      "Structure\n",
      "---------\n",
      "\n",
      "The course will be in English.\n",
      "\n",
      "Lecture/practical session every Monday from 16:15 to 18:00. Format is flexible, but will usually start with a mini-lecture on a new topic every week, followed by time to try/practice what was demonstrated and work on problems. Students can also work on problems at other times during the week, either in the CIP pool, or on their on laptops."
     ]
    },
    {
     "cell_type": "markdown",
     "metadata": {
      "slideshow": {
       "slide_type": "slide"
      }
     },
     "source": [
      "There will be four **problem sets** that you should submit solutions to. There will be *no* final exam. An average of 60% in the problem sets will be required to obtain the 2 credits at the end of the course.\n",
      "\n",
      "Solutions should be submitted individually, *not* in groups. The deadline for solutions to be handed will be stated in the problem set sheet."
     ]
    },
    {
     "cell_type": "markdown",
     "metadata": {
      "slideshow": {
       "slide_type": "slide"
      }
     },
     "source": [
      "Every week I will also provide **Practice problems**. These are not graded, and you can ask me for help, work in groups, etc. I will make solutions available at the end of the week, and you should try and look at them before the next session."
     ]
    },
    {
     "cell_type": "markdown",
     "metadata": {
      "slideshow": {
       "slide_type": "slide"
      }
     },
     "source": [
      "The lecture notes will be progressively made available over the semester via the Moodle. The notes are written in the IPython nobebook which you will learn about later in the semester. At the start of each session, I will go over the notebook for that session, but I will not read over everything, so you can go back and look at it in detail after I have gone over it."
     ]
    },
    {
     "cell_type": "markdown",
     "metadata": {
      "slideshow": {
       "slide_type": "slide"
      }
     },
     "source": [
      "You do not learn much programming by simply listening to me or by copying code from other people - the only real way to learn is to **try**!"
     ]
    },
    {
     "cell_type": "markdown",
     "metadata": {
      "slideshow": {
       "slide_type": "slide"
      }
     },
     "source": [
      "Solutions\n",
      "---------\n",
      "\n",
      "The following instructions are for Problem Sets, but also Practice Sheets if you want to submit solutions to these. Solutions should be handed it via [GitHub](http://www.github.com). The first time you go there, you will need to create a free account. Once you are logged in to GitHub:\n",
      "\n",
      "- go to [Gist](https://gist.github.com/)\n",
      "- enter a description (Solution to Problem Set 1)\n",
      "- to submit multiple files, click on 'Add another file'"
     ]
    },
    {
     "cell_type": "markdown",
     "metadata": {
      "slideshow": {
       "slide_type": "slide"
      }
     },
     "source": [
      "Then:\n",
      "\n",
      "**for exercises that require you to submit a Python script:**\n",
      "\n",
      "- enter a filename that contains the name of the problem sheet, the problem, and your name, and ending with ``.py``, as follows:\n",
      "\n",
      "        practice_sheet_1_question_2_thomas_robitaille.py\n",
      "        \n",
      "  Only split up the solutions into multiple files if there are several completely different problems (such as in some practice sheets), but otherwise submit it as a single file.\n",
      "\n",
      "\n",
      "- send me the file by email to [robitaille@mpia.de](mailto:robitaille@mpia.de) with ``[PY4SCI]`` in the subject."
     ]
    },
    {
     "cell_type": "markdown",
     "metadata": {
      "slideshow": {
       "slide_type": "slide"
      }
     },
     "source": [
      "**for exercises that require you to submit an IPython notebook:**\n",
      "\n",
      "- enter a filename that contains the name of the problem sheet and your name, and ending with ``.ipynb``, as follows:\n",
      "\n",
      "        problem_set_2_thomas_robitaille.ipynb\n",
      "\n",
      "- send me the file by email to [robitaille@mpia.de](mailto:robitaille@mpia.de) with ``[PY4SCI]`` in the subject."
     ]
    },
    {
     "cell_type": "markdown",
     "metadata": {
      "slideshow": {
       "slide_type": "slide"
      }
     },
     "source": [
      "The following criteria are taken into account for grading problem sets - the code should:\n",
      "\n",
      "- run with no errors\n",
      "- produce the correct results\n",
      "- be clearly readable, and include comments explaining what is being done\n",
      "- not include any unused code!\n",
      "- include a header summarizing the problem and if there are any special instructions for running the program. You can use triple quotes to enclose the header information:\n",
      "\n",
      "        \"\"\"\n",
      "        Program to compute prime numbers\n",
      "        Author: Thomas Robitaille\n",
      "        \n",
      "        You can run this program with ``python primes.py``\n",
      "        \"\"\""
     ]
    },
    {
     "cell_type": "markdown",
     "metadata": {},
     "source": [
      "**There is not always a unique solution to a problem**, so it does not matter if your programs do not look the same as somebody else's! What matters most is that you find your own way of doing it."
     ]
    },
    {
     "cell_type": "markdown",
     "metadata": {},
     "source": [
      "Policy on handing in solutions\n",
      "------------------------------\n",
      "\n",
      "Practice Problems can be done in groups, but Problem Sets should be done **individually** in order to get the full marks. If you need to work with someone else, then you can, but (a) you should submit a single solution and declare that you worked together on the solution, and (b) the final grade for the problem set will be multiplied by 0.75. If two students or more submit essentially the same solution, then the final grade for the problem set will be multiplied by 0.50."
     ]
    },
    {
     "cell_type": "markdown",
     "metadata": {
      "slideshow": {
       "slide_type": "slide"
      }
     },
     "source": [
      "Laptops\n",
      "-------\n",
      "\n",
      "If you would like to use Python on your laptop, you have several possibilities:\n",
      "\n",
      "- If you have a linux laptop and are familiar with package managers, most major scientific Python packages are available through these\n",
      "- Otherwise, try and install the [Anaconda Python distribution](http://continuum.io/downloads.html)\n",
      "\n",
      "Come and speak to me after the course (18:00) if you have any questions or need any help getting set up."
     ]
    }
   ],
   "metadata": {}
  }
 ]
}
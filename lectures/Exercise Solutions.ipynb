{
 "metadata": {
  "kernelspec": {
   "codemirror_mode": {
    "name": "ipython",
    "version": 3
   },
   "display_name": "IPython (Python 3)",
   "language": "python",
   "name": "python3"
  },
  "name": ""
 },
 "nbformat": 3,
 "nbformat_minor": 0,
 "worksheets": [
  {
   "cells": [
    {
     "cell_type": "heading",
     "level": 2,
     "metadata": {},
     "source": [
      "04. Numbers, Strings, and Dictionaries"
     ]
    },
    {
     "cell_type": "heading",
     "level": 3,
     "metadata": {},
     "source": [
      "Exercise 1"
     ]
    },
    {
     "cell_type": "code",
     "collapsed": false,
     "input": [
      "4 ** 3  # output is int"
     ],
     "language": "python",
     "metadata": {},
     "outputs": [
      {
       "output_type": "pyout",
       "prompt_number": 1,
       "text": [
        "64"
       ]
      }
     ],
     "prompt_number": 1
    },
    {
     "cell_type": "code",
     "collapsed": false,
     "input": [
      "2 + 3.4 ** 2  # output is float"
     ],
     "language": "python",
     "metadata": {},
     "outputs": [
      {
       "output_type": "pyout",
       "prompt_number": 2,
       "text": [
        "13.559999999999999"
       ]
      }
     ],
     "prompt_number": 2
    },
    {
     "cell_type": "code",
     "collapsed": false,
     "input": [
      "(1 + 1j) ** 2  # output is complex"
     ],
     "language": "python",
     "metadata": {},
     "outputs": [
      {
       "output_type": "pyout",
       "prompt_number": 3,
       "text": [
        "2j"
       ]
      }
     ],
     "prompt_number": 3
    },
    {
     "cell_type": "heading",
     "level": 3,
     "metadata": {},
     "source": [
      "Exercise 2"
     ]
    },
    {
     "cell_type": "code",
     "collapsed": false,
     "input": [
      "# Define string\n",
      "a = \"Hello, egg world!\"\n",
      "\n",
      "# Find position of 'egg' word\n",
      "pos = a.index('egg')\n",
      "\n",
      "# Make new string\n",
      "new_string = a[:pos] + a[pos+4:]\n",
      "\n",
      "# Print out to check\n",
      "print(new_string)"
     ],
     "language": "python",
     "metadata": {},
     "outputs": [
      {
       "output_type": "stream",
       "stream": "stdout",
       "text": [
        "Hello, world!\n"
       ]
      }
     ],
     "prompt_number": 4
    },
    {
     "cell_type": "heading",
     "level": 3,
     "metadata": {},
     "source": [
      "Exercise 3"
     ]
    },
    {
     "cell_type": "heading",
     "level": 4,
     "metadata": {},
     "source": [
      "Part 1:"
     ]
    },
    {
     "cell_type": "code",
     "collapsed": false,
     "input": [
      "s = \"CAGTACCAAGTGAAAGAT\"\n",
      "s.count(\"A\")"
     ],
     "language": "python",
     "metadata": {},
     "outputs": [
      {
       "output_type": "pyout",
       "prompt_number": 5,
       "text": [
        "8"
       ]
      }
     ],
     "prompt_number": 5
    },
    {
     "cell_type": "heading",
     "level": 4,
     "metadata": {},
     "source": [
      "Part 2:"
     ]
    },
    {
     "cell_type": "code",
     "collapsed": false,
     "input": [
      "a = [1, 2, 3]\n",
      "b = [4, 5, 6]"
     ],
     "language": "python",
     "metadata": {},
     "outputs": [],
     "prompt_number": 6
    },
    {
     "cell_type": "code",
     "collapsed": false,
     "input": [
      "a + b"
     ],
     "language": "python",
     "metadata": {},
     "outputs": [
      {
       "output_type": "pyout",
       "prompt_number": 7,
       "text": [
        "[1, 2, 3, 4, 5, 6]"
       ]
      }
     ],
     "prompt_number": 7
    },
    {
     "cell_type": "heading",
     "level": 2,
     "metadata": {},
     "source": [
      "05. Booleans, Tuples, and Dictionaries"
     ]
    },
    {
     "cell_type": "heading",
     "level": 3,
     "metadata": {},
     "source": [
      "Exercise 1"
     ]
    },
    {
     "cell_type": "code",
     "collapsed": false,
     "input": [
      "x = 3.7"
     ],
     "language": "python",
     "metadata": {},
     "outputs": [],
     "prompt_number": 8
    },
    {
     "cell_type": "code",
     "collapsed": false,
     "input": [
      "(x > 3.4 and x <= 6.6) or x == 2"
     ],
     "language": "python",
     "metadata": {},
     "outputs": [
      {
       "output_type": "pyout",
       "prompt_number": 9,
       "text": [
        "True"
       ]
      }
     ],
     "prompt_number": 9
    },
    {
     "cell_type": "heading",
     "level": 3,
     "metadata": {},
     "source": [
      "Exercise 2"
     ]
    },
    {
     "cell_type": "code",
     "collapsed": false,
     "input": [
      "words = {}\n",
      "words['Table'] = 'Tisch'\n",
      "words['Chair'] = 'Stuhl'\n",
      "words['Snake'] = 'Schlange'"
     ],
     "language": "python",
     "metadata": {},
     "outputs": [],
     "prompt_number": 10
    },
    {
     "cell_type": "code",
     "collapsed": false,
     "input": [
      "words['Chair']"
     ],
     "language": "python",
     "metadata": {},
     "outputs": [
      {
       "output_type": "pyout",
       "prompt_number": 11,
       "text": [
        "'Stuhl'"
       ]
      }
     ],
     "prompt_number": 11
    },
    {
     "cell_type": "heading",
     "level": 2,
     "metadata": {},
     "source": [
      "06. Control Flow"
     ]
    },
    {
     "cell_type": "heading",
     "level": 3,
     "metadata": {},
     "source": [
      "Exercise 1 and 2"
     ]
    },
    {
     "cell_type": "code",
     "collapsed": false,
     "input": [
      "for i in range(2, 51):  # just to 50 for this example\n",
      "\n",
      "    # Set is_prime 'flag' to initial value\n",
      "    is_prime = True\n",
      "\n",
      "    # Try and divide i by all values between 2 and i-1, and if none of them\n",
      "    # work, then the value is prime.\n",
      "    for j in range(2, i):\n",
      "\n",
      "        # Check if i is divisible by j\n",
      "        if i % j == 0:\n",
      "            is_prime = False\n",
      "            break\n",
      "\n",
      "\n",
      "    if is_prime:\n",
      "        print(i)"
     ],
     "language": "python",
     "metadata": {},
     "outputs": [
      {
       "output_type": "stream",
       "stream": "stdout",
       "text": [
        "2\n",
        "3\n",
        "5\n",
        "7\n",
        "11\n",
        "13\n",
        "17\n",
        "19\n",
        "23\n",
        "29\n",
        "31\n",
        "37\n",
        "41\n",
        "43\n",
        "47\n"
       ]
      }
     ],
     "prompt_number": 12
    },
    {
     "cell_type": "markdown",
     "metadata": {},
     "source": [
      "There are other ways of doing this, e.g.:"
     ]
    },
    {
     "cell_type": "code",
     "collapsed": false,
     "input": [
      "for i in range(2, 51):\n",
      "    for j in range(2, i):\n",
      "        if i % j == 0:\n",
      "            break\n",
      "    else:  # this gets executed if break is not called\n",
      "        print(i)"
     ],
     "language": "python",
     "metadata": {},
     "outputs": [
      {
       "output_type": "stream",
       "stream": "stdout",
       "text": [
        "2\n",
        "3\n",
        "5\n",
        "7\n",
        "11\n",
        "13\n",
        "17\n",
        "19\n",
        "23\n",
        "29\n",
        "31\n",
        "37\n",
        "41\n",
        "43\n",
        "47\n"
       ]
      }
     ],
     "prompt_number": 13
    },
    {
     "cell_type": "heading",
     "level": 3,
     "metadata": {},
     "source": [
      "Exercise 2"
     ]
    },
    {
     "cell_type": "heading",
     "level": 4,
     "metadata": {},
     "source": [
      "No loop:"
     ]
    },
    {
     "cell_type": "code",
     "collapsed": false,
     "input": [
      "a = 0\n",
      "b = 1\n",
      "while a < 100000:\n",
      "    print(a)\n",
      "    c = a  # save a to old variable\n",
      "    a = b\n",
      "    b = c + b"
     ],
     "language": "python",
     "metadata": {},
     "outputs": [
      {
       "output_type": "stream",
       "stream": "stdout",
       "text": [
        "0\n",
        "1\n",
        "1\n",
        "2\n",
        "3\n",
        "5\n",
        "8\n",
        "13\n",
        "21\n",
        "34\n",
        "55\n",
        "89\n",
        "144\n",
        "233\n",
        "377\n",
        "610\n",
        "987\n",
        "1597\n",
        "2584\n",
        "4181\n",
        "6765\n",
        "10946\n",
        "17711\n",
        "28657\n",
        "46368\n",
        "75025\n"
       ]
      }
     ],
     "prompt_number": 14
    },
    {
     "cell_type": "heading",
     "level": 4,
     "metadata": {},
     "source": [
      "Even simpler:"
     ]
    },
    {
     "cell_type": "code",
     "collapsed": false,
     "input": [
      "a, b = 0, 1\n",
      "while a < 100000:\n",
      "    print(a)\n",
      "    a, b = b, a + b"
     ],
     "language": "python",
     "metadata": {},
     "outputs": [
      {
       "output_type": "stream",
       "stream": "stdout",
       "text": [
        "0\n",
        "1\n",
        "1\n",
        "2\n",
        "3\n",
        "5\n",
        "8\n",
        "13\n",
        "21\n",
        "34\n",
        "55\n",
        "89\n",
        "144\n",
        "233\n",
        "377\n",
        "610\n",
        "987\n",
        "1597\n",
        "2584\n",
        "4181\n",
        "6765\n",
        "10946\n",
        "17711\n",
        "28657\n",
        "46368\n",
        "75025\n"
       ]
      }
     ],
     "prompt_number": 15
    },
    {
     "cell_type": "heading",
     "level": 4,
     "metadata": {},
     "source": [
      "With a list:"
     ]
    },
    {
     "cell_type": "code",
     "collapsed": false,
     "input": [
      "fib = [0, 1]\n",
      "while fib[-1] + fib[-2] < 100000:\n",
      "    fib.append(fib[-1] + fib[-2])\n",
      "print(fib)"
     ],
     "language": "python",
     "metadata": {},
     "outputs": [
      {
       "output_type": "stream",
       "stream": "stdout",
       "text": [
        "[0, 1, 1, 2, 3, 5, 8, 13, 21, 34, 55, 89, 144, 233, 377, 610, 987, 1597, 2584, 4181, 6765, 10946, 17711, 28657, 46368, 75025]\n"
       ]
      }
     ],
     "prompt_number": 16
    },
    {
     "cell_type": "heading",
     "level": 2,
     "metadata": {},
     "source": [
      "07. Functions"
     ]
    },
    {
     "cell_type": "heading",
     "level": 3,
     "metadata": {},
     "source": [
      "Exercise 1"
     ]
    },
    {
     "cell_type": "code",
     "collapsed": false,
     "input": [
      "def is_prime(x):\n",
      "    for j in range(2, x):\n",
      "        if x % j == 0:\n",
      "            return False\n",
      "    return True"
     ],
     "language": "python",
     "metadata": {},
     "outputs": [],
     "prompt_number": 17
    },
    {
     "cell_type": "code",
     "collapsed": false,
     "input": [
      "is_prime(7)"
     ],
     "language": "python",
     "metadata": {},
     "outputs": [
      {
       "output_type": "pyout",
       "prompt_number": 18,
       "text": [
        "True"
       ]
      }
     ],
     "prompt_number": 18
    },
    {
     "cell_type": "heading",
     "level": 3,
     "metadata": {},
     "source": [
      "Exercise 2"
     ]
    },
    {
     "cell_type": "heading",
     "level": 4,
     "metadata": {},
     "source": [
      "With loop"
     ]
    },
    {
     "cell_type": "code",
     "collapsed": false,
     "input": [
      "def factorial(x):\n",
      "    fact = 1\n",
      "    for i in range(1,x+1):\n",
      "        fact = fact * i\n",
      "    return fact"
     ],
     "language": "python",
     "metadata": {},
     "outputs": [],
     "prompt_number": 19
    },
    {
     "cell_type": "heading",
     "level": 4,
     "metadata": {},
     "source": [
      "Without loop"
     ]
    },
    {
     "cell_type": "code",
     "collapsed": false,
     "input": [
      "def factorial(x):\n",
      "    if x > 0:\n",
      "        return x * factorial(x - 1)\n",
      "    else:\n",
      "        return 1"
     ],
     "language": "python",
     "metadata": {},
     "outputs": [],
     "prompt_number": 20
    },
    {
     "cell_type": "heading",
     "level": 3,
     "metadata": {},
     "source": [
      "Exercise 3:"
     ]
    },
    {
     "cell_type": "code",
     "collapsed": false,
     "input": [
      "def mean(x):\n",
      "    return sum(x) / float(len(x))"
     ],
     "language": "python",
     "metadata": {},
     "outputs": [],
     "prompt_number": 21
    },
    {
     "cell_type": "code",
     "collapsed": false,
     "input": [
      "mean([1, 3, 4, 5, 6, 7])"
     ],
     "language": "python",
     "metadata": {},
     "outputs": [
      {
       "output_type": "pyout",
       "prompt_number": 22,
       "text": [
        "4.333333333333333"
       ]
      }
     ],
     "prompt_number": 22
    },
    {
     "cell_type": "heading",
     "level": 2,
     "metadata": {},
     "source": [
      "08. Modules and Variable Scope"
     ]
    },
    {
     "cell_type": "heading",
     "level": 3,
     "metadata": {},
     "source": [
      "Exercise 1"
     ]
    },
    {
     "cell_type": "code",
     "collapsed": false,
     "input": [
      "import math"
     ],
     "language": "python",
     "metadata": {},
     "outputs": [],
     "prompt_number": 23
    },
    {
     "cell_type": "code",
     "collapsed": false,
     "input": [
      "math.cos(math.radians(60))"
     ],
     "language": "python",
     "metadata": {},
     "outputs": [
      {
       "output_type": "pyout",
       "prompt_number": 24,
       "text": [
        "0.5000000000000001"
       ]
      }
     ],
     "prompt_number": 24
    },
    {
     "cell_type": "code",
     "collapsed": false,
     "input": [
      "math.sin(math.pi / 6)"
     ],
     "language": "python",
     "metadata": {},
     "outputs": [
      {
       "output_type": "pyout",
       "prompt_number": 25,
       "text": [
        "0.49999999999999994"
       ]
      }
     ],
     "prompt_number": 25
    },
    {
     "cell_type": "heading",
     "level": 2,
     "metadata": {},
     "source": [
      "09. Reading and writing files"
     ]
    },
    {
     "cell_type": "heading",
     "level": 3,
     "metadata": {},
     "source": [
      "Exercise 1"
     ]
    },
    {
     "cell_type": "code",
     "collapsed": false,
     "input": [
      "# Open file\n",
      "f = open('data/data.txt', 'r')\n",
      "\n",
      "# Read and ignore header lines\n",
      "header1 = f.readline()\n",
      "header2 = f.readline()\n",
      "header3 = f.readline()\n",
      "\n",
      "jmag = {}\n",
      "for line in f:\n",
      "    line = line.strip()\n",
      "    columns = line.split()\n",
      "    name = columns[2]\n",
      "    jmag[name] = float(columns[3])"
     ],
     "language": "python",
     "metadata": {},
     "outputs": [],
     "prompt_number": 26
    },
    {
     "cell_type": "code",
     "collapsed": false,
     "input": [
      "jmag"
     ],
     "language": "python",
     "metadata": {},
     "outputs": [
      {
       "output_type": "pyout",
       "prompt_number": 27,
       "text": [
        "{'00424403+4116069': 9.321,\n",
        " '00424403+4116108': 11.507,\n",
        " '00424433+4116085': 9.453,\n",
        " '00424446+4116016': 12.07,\n",
        " '00424455+4116103': 10.773,\n",
        " '00424464+4116092': 9.299,\n",
        " '00424464+4116106': 9.399}"
       ]
      }
     ],
     "prompt_number": 27
    },
    {
     "cell_type": "code",
     "collapsed": false,
     "input": [
      "for name in sorted(jmag.keys()):  # alphabetical\n",
      "    print(name, jmag[name])"
     ],
     "language": "python",
     "metadata": {},
     "outputs": [
      {
       "output_type": "stream",
       "stream": "stdout",
       "text": [
        "00424403+4116069 9.321\n",
        "00424403+4116108 11.507\n",
        "00424433+4116085 9.453\n",
        "00424446+4116016 12.07\n",
        "00424455+4116103 10.773\n",
        "00424464+4116092 9.299\n",
        "00424464+4116106 9.399\n"
       ]
      }
     ],
     "prompt_number": 28
    },
    {
     "cell_type": "heading",
     "level": 3,
     "metadata": {},
     "source": [
      "Exercise 2"
     ]
    },
    {
     "cell_type": "code",
     "collapsed": false,
     "input": [
      "# Open file\n",
      "f_in = open('data/data.txt', 'r')\n",
      "f_out = open('data_new.txt', 'w')\n",
      "\n",
      "# Read and ignore header lines\n",
      "header1 = f_in.readline()\n",
      "header2 = f_in.readline()\n",
      "header3 = f_in.readline()\n",
      "\n",
      "# Loop over lines and extract variables of interest\n",
      "for line in f_in:\n",
      "    line = line.strip()\n",
      "    columns = line.split()\n",
      "    name = columns[2]\n",
      "    jmag = float(columns[3])\n",
      "    f_out.write(name + \" \" + str(jmag) + \"\\n\")\n",
      "\n",
      "f_out.close()"
     ],
     "language": "python",
     "metadata": {},
     "outputs": [],
     "prompt_number": 29
    },
    {
     "cell_type": "code",
     "collapsed": false,
     "input": [
      "%cat data_new.txt"
     ],
     "language": "python",
     "metadata": {},
     "outputs": [
      {
       "output_type": "stream",
       "stream": "stdout",
       "text": [
        "00424433+4116085 9.453\r\n",
        "00424403+4116069 9.321\r\n",
        "00424455+4116103 10.773\r\n",
        "00424464+4116092 9.299\r\n",
        "00424403+4116108 11.507\r\n",
        "00424464+4116106 9.399\r\n",
        "00424446+4116016 12.07\r\n"
       ]
      }
     ],
     "prompt_number": 30
    },
    {
     "cell_type": "heading",
     "level": 2,
     "metadata": {},
     "source": [
      "10. Introduction to Numpy"
     ]
    },
    {
     "cell_type": "heading",
     "level": 3,
     "metadata": {},
     "source": [
      "Exercise 1"
     ]
    },
    {
     "cell_type": "code",
     "collapsed": false,
     "input": [
      "import numpy as np\n",
      "np.logspace(-20, -10, 11)"
     ],
     "language": "python",
     "metadata": {},
     "outputs": [
      {
       "output_type": "pyout",
       "prompt_number": 31,
       "text": [
        "array([  1.00000000e-20,   1.00000000e-19,   1.00000000e-18,\n",
        "         1.00000000e-17,   1.00000000e-16,   1.00000000e-15,\n",
        "         1.00000000e-14,   1.00000000e-13,   1.00000000e-12,\n",
        "         1.00000000e-11,   1.00000000e-10])"
       ]
      }
     ],
     "prompt_number": 31
    },
    {
     "cell_type": "code",
     "collapsed": false,
     "input": [
      "np.repeat(2, 10)"
     ],
     "language": "python",
     "metadata": {},
     "outputs": [
      {
       "output_type": "pyout",
       "prompt_number": 32,
       "text": [
        "array([2, 2, 2, 2, 2, 2, 2, 2, 2, 2])"
       ]
      }
     ],
     "prompt_number": 32
    },
    {
     "cell_type": "code",
     "collapsed": false,
     "input": [
      "np.empty(10)  # sometimes returns values != 0 because uninitialized"
     ],
     "language": "python",
     "metadata": {},
     "outputs": [
      {
       "output_type": "pyout",
       "prompt_number": 33,
       "text": [
        "array([ 0.,  0.,  0.,  0.,  0.,  0.,  0.,  0.,  0.,  0.])"
       ]
      }
     ],
     "prompt_number": 33
    },
    {
     "cell_type": "code",
     "collapsed": false,
     "input": [
      "np.zeros(5, dtype=np.float32)"
     ],
     "language": "python",
     "metadata": {},
     "outputs": [
      {
       "output_type": "pyout",
       "prompt_number": 34,
       "text": [
        "array([ 0.,  0.,  0.,  0.,  0.], dtype=float32)"
       ]
      }
     ],
     "prompt_number": 34
    },
    {
     "cell_type": "heading",
     "level": 3,
     "metadata": {},
     "source": [
      "Exercise 2"
     ]
    },
    {
     "cell_type": "code",
     "collapsed": false,
     "input": [
      "x = np.random.random(10)"
     ],
     "language": "python",
     "metadata": {},
     "outputs": [],
     "prompt_number": 35
    },
    {
     "cell_type": "code",
     "collapsed": false,
     "input": [
      "x[1:] - x[:-1]"
     ],
     "language": "python",
     "metadata": {},
     "outputs": [
      {
       "output_type": "pyout",
       "prompt_number": 36,
       "text": [
        "array([-0.64035504,  0.61577834,  0.07195064, -0.78503385,  0.66069378,\n",
        "       -0.3501695 ,  0.27322868, -0.18303043,  0.31642362])"
       ]
      }
     ],
     "prompt_number": 36
    },
    {
     "cell_type": "code",
     "collapsed": false,
     "input": [
      "np.diff(x)"
     ],
     "language": "python",
     "metadata": {},
     "outputs": [
      {
       "output_type": "pyout",
       "prompt_number": 37,
       "text": [
        "array([-0.64035504,  0.61577834,  0.07195064, -0.78503385,  0.66069378,\n",
        "       -0.3501695 ,  0.27322868, -0.18303043,  0.31642362])"
       ]
      }
     ],
     "prompt_number": 37
    },
    {
     "cell_type": "heading",
     "level": 3,
     "metadata": {},
     "source": [
      "Exercise 3"
     ]
    },
    {
     "cell_type": "code",
     "collapsed": false,
     "input": [
      "filename = \"data/munich_temperatures_average_with_bad_data.txt\"\n",
      "date, temperature = np.loadtxt(filename, unpack=True)"
     ],
     "language": "python",
     "metadata": {},
     "outputs": [],
     "prompt_number": 38
    },
    {
     "cell_type": "code",
     "collapsed": false,
     "input": [
      "keep = np.abs(temperature) < 50"
     ],
     "language": "python",
     "metadata": {},
     "outputs": [],
     "prompt_number": 39
    },
    {
     "cell_type": "code",
     "collapsed": false,
     "input": [
      "date_good = date[keep]\n",
      "temperature_good = temperature[keep]"
     ],
     "language": "python",
     "metadata": {},
     "outputs": [],
     "prompt_number": 40
    },
    {
     "cell_type": "heading",
     "level": 2,
     "metadata": {},
     "source": [
      "11. Introduction to Matplotlib"
     ]
    },
    {
     "cell_type": "heading",
     "level": 3,
     "metadata": {},
     "source": [
      "Exercise 1"
     ]
    },
    {
     "cell_type": "code",
     "collapsed": false,
     "input": [
      "# The following code reads in the file and removes bad values\n",
      "date, temperature = np.loadtxt('data/munich_temperatures_average_with_bad_data.txt', unpack=True)\n",
      "keep = np.abs(temperature) < 90\n",
      "date = date[keep]\n",
      "temperature = temperature[keep]"
     ],
     "language": "python",
     "metadata": {},
     "outputs": [],
     "prompt_number": 41
    },
    {
     "cell_type": "code",
     "collapsed": false,
     "input": [
      "%matplotlib inline\n",
      "import matplotlib.pyplot as plt"
     ],
     "language": "python",
     "metadata": {},
     "outputs": [],
     "prompt_number": 42
    },
    {
     "cell_type": "code",
     "collapsed": false,
     "input": [
      "plt.plot(date, temperature, '.')"
     ],
     "language": "python",
     "metadata": {},
     "outputs": [
      {
       "output_type": "pyout",
       "prompt_number": 43,
       "text": [
        "[<matplotlib.lines.Line2D at 0x10b409320>]"
       ]
      },
      {
       "output_type": "display_data",
       "png": "[encoded data removed]",
       "text": [
        "<matplotlib.figure.Figure at 0x10372fc18>"
       ]
      }
     ],
     "prompt_number": 43
    },
    {
     "cell_type": "code",
     "collapsed": false,
     "input": [
      "plt.plot(date % 1, temperature, '.')"
     ],
     "language": "python",
     "metadata": {},
     "outputs": [
      {
       "output_type": "pyout",
       "prompt_number": 44,
       "text": [
        "[<matplotlib.lines.Line2D at 0x10b4f82e8>]"
       ]
      },
      {
       "output_type": "display_data",
       "png": "[encoded data removed]",
       "text": [
        "<matplotlib.figure.Figure at 0x10b3dd048>"
       ]
      }
     ],
     "prompt_number": 44
    },
    {
     "cell_type": "heading",
     "level": 3,
     "metadata": {},
     "source": [
      "Exercise 2"
     ]
    },
    {
     "cell_type": "code",
     "collapsed": false,
     "input": [
      "def gaussian(x, amplitude, offset, sigma):\n",
      "    return 1. / np.sqrt(2 * np.pi) / sigma * np.exp(-0.5 * (x - offset) ** 2 / sigma ** 2)"
     ],
     "language": "python",
     "metadata": {},
     "outputs": [],
     "prompt_number": 45
    },
    {
     "cell_type": "code",
     "collapsed": false,
     "input": [
      "values = np.random.normal(0, 1, 100000)"
     ],
     "language": "python",
     "metadata": {},
     "outputs": [],
     "prompt_number": 46
    },
    {
     "cell_type": "code",
     "collapsed": false,
     "input": [
      "h = plt.hist(values, bins=100, normed=True)\n",
      "x = np.linspace(-5, 5, 100)\n",
      "plt.plot(x, gaussian(x, 1, 0, 1), color='red', lw=2)"
     ],
     "language": "python",
     "metadata": {},
     "outputs": [
      {
       "output_type": "pyout",
       "prompt_number": 47,
       "text": [
        "[<matplotlib.lines.Line2D at 0x10b5c1908>]"
       ]
      },
      {
       "output_type": "display_data",
       "png": "[encoded data removed]",
       "text": [
        "<matplotlib.figure.Figure at 0x10b451f98>"
       ]
      }
     ],
     "prompt_number": 47
    },
    {
     "cell_type": "heading",
     "level": 3,
     "metadata": {},
     "source": [
      "Exercise 3"
     ]
    },
    {
     "cell_type": "code",
     "collapsed": false,
     "input": [
      "total = np.zeros(10000)"
     ],
     "language": "python",
     "metadata": {},
     "outputs": [],
     "prompt_number": 48
    },
    {
     "cell_type": "code",
     "collapsed": false,
     "input": [
      "values = np.random.random(10000)\n",
      "total = total + values"
     ],
     "language": "python",
     "metadata": {},
     "outputs": [],
     "prompt_number": 49
    },
    {
     "cell_type": "code",
     "collapsed": false,
     "input": [
      "h = plt.hist(total, bins=30)"
     ],
     "language": "python",
     "metadata": {},
     "outputs": [
      {
       "output_type": "display_data",
       "png": "[encoded data removed]",
       "text": [
        "<matplotlib.figure.Figure at 0x10b502160>"
       ]
      }
     ],
     "prompt_number": 50
    },
    {
     "cell_type": "code",
     "collapsed": false,
     "input": [
      "values = np.random.random(10000)\n",
      "total = total + values"
     ],
     "language": "python",
     "metadata": {},
     "outputs": [],
     "prompt_number": 51
    },
    {
     "cell_type": "code",
     "collapsed": false,
     "input": [
      "h = plt.hist(total / 2., bins=30)"
     ],
     "language": "python",
     "metadata": {},
     "outputs": [
      {
       "output_type": "display_data",
       "png": "[encoded data removed]",
       "text": [
        "<matplotlib.figure.Figure at 0x10c07eda0>"
       ]
      }
     ],
     "prompt_number": 52
    },
    {
     "cell_type": "code",
     "collapsed": false,
     "input": [
      "for iter in range(8):  # already did it twice\n",
      "    values = np.random.random(10000)\n",
      "    total = total + values"
     ],
     "language": "python",
     "metadata": {},
     "outputs": [],
     "prompt_number": 53
    },
    {
     "cell_type": "code",
     "collapsed": false,
     "input": [
      "h = plt.hist(total / 10., bins=30)"
     ],
     "language": "python",
     "metadata": {},
     "outputs": [
      {
       "output_type": "display_data",
       "png": "[encoded data removed]",
       "text": [
        "<matplotlib.figure.Figure at 0x10c2d8780>"
       ]
      }
     ],
     "prompt_number": 54
    },
    {
     "cell_type": "heading",
     "level": 2,
     "metadata": {},
     "source": [
      "12. Files and paths"
     ]
    },
    {
     "cell_type": "code",
     "collapsed": false,
     "input": [
      "import os\n",
      "import glob\n",
      "for filename in glob.glob('*'):\n",
      "    print(filename, os.path.getsize(filename) / 1024)"
     ],
     "language": "python",
     "metadata": {},
     "outputs": [
      {
       "output_type": "stream",
       "stream": "stdout",
       "text": [
        "00. About the course.ipynb 8.9931640625\n",
        "01. What is Python.ipynb 4.9423828125\n",
        "02. How to run Python code.ipynb 5.447265625\n",
        "03. Using the IPython notebook.ipynb 16.646484375\n",
        "04. Numbers, String, and Lists.ipynb 34.8271484375\n",
        "05. Booleans, Tuples, and, Dictionaries.ipynb 14.2880859375\n",
        "06. Control Flow.ipynb 16.3701171875\n",
        "07. Functions.ipynb 12.5732421875\n",
        "08. Modules and Variable Scope.ipynb 20.0615234375\n",
        "09. Reading and writing files.ipynb 20.251953125\n",
        "10. Introduction to Numpy.ipynb 36.9853515625\n",
        "11. Introduction to Matplotlib.ipynb 452.2734375\n",
        "12. Files and paths.ipynb 6.37890625\n",
        "13. String Formatting.ipynb 7.6474609375\n",
        "14. Python variables - benind the scenes.ipynb 22.6552734375\n",
        "15. Fitting models to data.ipynb 58.4365234375\n",
        "16. Interpolation and Integration.ipynb 17.2900390625\n",
        "17. Understanding Python errors.ipynb 19.4619140625\n",
        "18. Accessing remote resources.ipynb 324.7802734375\n",
        "19. Object-oriented programming.ipynb 18.3330078125\n",
        "20060313.npy 4296.953125\n",
        "custom.css 0.4365234375\n",
        "data 0.232421875\n",
        "data_new.txt 0.1591796875\n",
        "Exercise Solutions.ipynb 298.0693359375\n",
        "my_plot.png 1.1767578125\n",
        "py4sci_template.tpl 1.359375\n",
        "slides_config.py 0.0615234375\n"
       ]
      }
     ],
     "prompt_number": 55
    },
    {
     "cell_type": "heading",
     "level": 2,
     "metadata": {},
     "source": [
      "13. String Formatting"
     ]
    },
    {
     "cell_type": "heading",
     "level": 3,
     "metadata": {},
     "source": [
      "Exercise 1"
     ]
    },
    {
     "cell_type": "code",
     "collapsed": false,
     "input": [
      "def to_string(year, day, month, hour, minute, second):\n",
      "    date = \"{0:04d}-{1:02d}-{2:02d}\".format(year, month, day)\n",
      "    time = \"{0:02d}:{1:02d}:{2:02d}\".format(hour, minute, second)\n",
      "    return \"{date} {time}\".format(date=date, time=time)"
     ],
     "language": "python",
     "metadata": {},
     "outputs": [],
     "prompt_number": 56
    },
    {
     "cell_type": "code",
     "collapsed": false,
     "input": [
      "to_string(2006,3,22,13,12,55)"
     ],
     "language": "python",
     "metadata": {},
     "outputs": [
      {
       "output_type": "pyout",
       "prompt_number": 57,
       "text": [
        "'2006-22-03 13:12:55'"
       ]
      }
     ],
     "prompt_number": 57
    },
    {
     "cell_type": "code",
     "collapsed": false,
     "input": [
      "def to_values(string):\n",
      "    date, time = string.split()\n",
      "    year, month, day = date.split('-')\n",
      "    hour, minute, second = time.split(':')\n",
      "    return (int(year), int(month), int(day),\n",
      "            int(hour), int(minute), int(second))"
     ],
     "language": "python",
     "metadata": {},
     "outputs": [],
     "prompt_number": 58
    },
    {
     "cell_type": "code",
     "collapsed": false,
     "input": [
      "to_values('2006-22-03 13:12:55')"
     ],
     "language": "python",
     "metadata": {},
     "outputs": [
      {
       "output_type": "pyout",
       "prompt_number": 59,
       "text": [
        "(2006, 22, 3, 13, 12, 55)"
       ]
      }
     ],
     "prompt_number": 59
    },
    {
     "cell_type": "heading",
     "level": 2,
     "metadata": {},
     "source": [
      "15. Fitting models to data"
     ]
    },
    {
     "cell_type": "heading",
     "level": 3,
     "metadata": {},
     "source": [
      "Exercise 1"
     ]
    },
    {
     "cell_type": "code",
     "collapsed": false,
     "input": [
      "x = np.random.uniform(0., 10., 100)\n",
      "y = np.polyval([1, 2, -3], x) + np.random.normal(0., 10., 100)\n",
      "e = np.random.uniform(5, 10, 100)"
     ],
     "language": "python",
     "metadata": {},
     "outputs": [],
     "prompt_number": 60
    },
    {
     "cell_type": "code",
     "collapsed": false,
     "input": [
      "def line(x, a, b):\n",
      "    return a * x + b"
     ],
     "language": "python",
     "metadata": {},
     "outputs": [],
     "prompt_number": 61
    },
    {
     "cell_type": "code",
     "collapsed": false,
     "input": [
      "def parabola(x, a, b, c):\n",
      "    return a * x ** 2 + b * x + c"
     ],
     "language": "python",
     "metadata": {},
     "outputs": [],
     "prompt_number": 62
    },
    {
     "cell_type": "code",
     "collapsed": false,
     "input": [
      "from scipy.optimize import curve_fit\n",
      "popt1, pcov1 = curve_fit(line, x, y, sigma=e)\n",
      "popt2, pcov2 = curve_fit(parabola, x, y, sigma=e)"
     ],
     "language": "python",
     "metadata": {},
     "outputs": [],
     "prompt_number": 63
    },
    {
     "cell_type": "code",
     "collapsed": false,
     "input": [
      "plt.errorbar(x, y, yerr=e, fmt=\"none\")\n",
      "xfine = np.linspace(0., 10., 100)\n",
      "plt.plot(xfine, line(xfine, *popt1), color='red', lw=2)\n",
      "plt.plot(xfine, parabola(xfine, *popt2), color='orange', lw=2)"
     ],
     "language": "python",
     "metadata": {},
     "outputs": [
      {
       "output_type": "pyout",
       "prompt_number": 64,
       "text": [
        "[<matplotlib.lines.Line2D at 0x10deb5a90>]"
       ]
      },
      {
       "output_type": "display_data",
       "png": "[encoded data removed]",
       "text": [
        "<matplotlib.figure.Figure at 0x10deb5ac8>"
       ]
      }
     ],
     "prompt_number": 64
    },
    {
     "cell_type": "heading",
     "level": 3,
     "metadata": {},
     "source": [
      "Exercise 2"
     ]
    },
    {
     "cell_type": "code",
     "collapsed": false,
     "input": [
      "import numpy as np\n",
      "date, temperature = np.loadtxt('data/munich_temperatures_average_with_bad_data.txt', unpack=True)\n",
      "keep = np.abs(temperature) < 90\n",
      "date = date[keep]\n",
      "temperature = temperature[keep]"
     ],
     "language": "python",
     "metadata": {},
     "outputs": [],
     "prompt_number": 65
    },
    {
     "cell_type": "code",
     "collapsed": false,
     "input": [
      "def cosine(x, a, b, c):\n",
      "    return a * np.cos(2 * np.pi * x + b) + c"
     ],
     "language": "python",
     "metadata": {},
     "outputs": [],
     "prompt_number": 66
    },
    {
     "cell_type": "code",
     "collapsed": false,
     "input": [
      "popt, pcov = curve_fit(cosine, date, temperature)"
     ],
     "language": "python",
     "metadata": {},
     "outputs": [],
     "prompt_number": 67
    },
    {
     "cell_type": "code",
     "collapsed": false,
     "input": [
      "plt.plot(date, temperature, '.')\n",
      "xfine = np.linspace(1995, 2014, 100)\n",
      "plt.plot(xfine, cosine(xfine, *popt), color='red', lw=2)"
     ],
     "language": "python",
     "metadata": {},
     "outputs": [
      {
       "output_type": "pyout",
       "prompt_number": 68,
       "text": [
        "[<matplotlib.lines.Line2D at 0x10df0cfd0>]"
       ]
      },
      {
       "output_type": "display_data",
       "png": "[encoded data removed]",
       "text": [
        "<matplotlib.figure.Figure at 0x10df0c8d0>"
       ]
      }
     ],
     "prompt_number": 68
    },
    {
     "cell_type": "heading",
     "level": 2,
     "metadata": {},
     "source": [
      "16. Interpolation and Integration"
     ]
    },
    {
     "cell_type": "code",
     "collapsed": false,
     "input": [
      "def gaussian(x, amplitude, mean, sigma):\n",
      "    return 1. / (np.sqrt(2 * np.pi) * sigma) * np.exp(-0.5 * (x - mean)**2 / sigma**2)"
     ],
     "language": "python",
     "metadata": {},
     "outputs": [],
     "prompt_number": 69
    },
    {
     "cell_type": "markdown",
     "metadata": {},
     "source": [
      "Here we can't simply call ``quad`` with ``gaussian`` and the limits - we also have to specify the additional parameters (amplitude, mean, and sigma). We can use the ``args`` option for this:"
     ]
    },
    {
     "cell_type": "code",
     "collapsed": false,
     "input": [
      "from scipy.integrate import quad\n",
      "quad(gaussian, -100., 100., args=(1., 0., 1.))"
     ],
     "language": "python",
     "metadata": {},
     "outputs": [
      {
       "output_type": "pyout",
       "prompt_number": 70,
       "text": [
        "(1.0000000000000002, 1.0346447325665705e-12)"
       ]
      }
     ],
     "prompt_number": 70
    },
    {
     "cell_type": "markdown",
     "metadata": {},
     "source": [
      "The integral is 1, as expected. We can now try and do the same with discrete samples:"
     ]
    },
    {
     "cell_type": "code",
     "collapsed": false,
     "input": [
      "from scipy.integrate import simps\n",
      "x = np.linspace(-100., 100., 10000)\n",
      "y = gaussian(x, 1., 0., 1.)\n",
      "simps(y, x=x)"
     ],
     "language": "python",
     "metadata": {},
     "outputs": [
      {
       "output_type": "pyout",
       "prompt_number": 71,
       "text": [
        "1.0"
       ]
      }
     ],
     "prompt_number": 71
    },
    {
     "cell_type": "heading",
     "level": 2,
     "metadata": {},
     "source": [
      "18. Accessing remote resources"
     ]
    },
    {
     "cell_type": "code",
     "collapsed": false,
     "input": [
      "import requests\n",
      "\n",
      "# We can store the base URL in a constant\n",
      "URL = \"http://mpia.de/~robitaille/share/ice_data/{year:04d}{month:02d}{day:02d}.npy\"\n",
      "\n",
      "def get_map(year, month, day):\n",
      "    \n",
      "    result = requests.get(URL.format(year=year, month=month, day=day))\n",
      "    \n",
      "    # For requests, it turns out that if the file is not\n",
      "    # found no error is raised but ``status_code`` is set\n",
      "    # to 404:\n",
      "    if result.status_code == 404:\n",
      "        return None\n",
      "    \n",
      "    f = open('temporary.npy', 'wb')\n",
      "    f.write(result.content)\n",
      "    f.close()\n",
      "    \n",
      "    return np.load('temporary.npy')"
     ],
     "language": "python",
     "metadata": {},
     "outputs": [],
     "prompt_number": 72
    },
    {
     "cell_type": "code",
     "collapsed": false,
     "input": [
      "m = get_map(2010, 12, 3)"
     ],
     "language": "python",
     "metadata": {},
     "outputs": [],
     "prompt_number": 73
    },
    {
     "cell_type": "code",
     "collapsed": false,
     "input": [
      "plt.imshow(m)"
     ],
     "language": "python",
     "metadata": {},
     "outputs": [
      {
       "output_type": "pyout",
       "prompt_number": 74,
       "text": [
        "<matplotlib.image.AxesImage at 0x10e518940>"
       ]
      },
      {
       "output_type": "display_data",
       "png": "[encoded data removed]",
       "text": [
        "<matplotlib.figure.Figure at 0x10e276898>"
       ]
      }
     ],
     "prompt_number": 74
    },
    {
     "cell_type": "code",
     "collapsed": false,
     "input": [
      "print(get_map(2011,12,3))"
     ],
     "language": "python",
     "metadata": {},
     "outputs": [
      {
       "output_type": "stream",
       "stream": "stdout",
       "text": [
        "None\n"
       ]
      }
     ],
     "prompt_number": 75
    },
    {
     "cell_type": "heading",
     "level": 2,
     "metadata": {},
     "source": [
      "19. Object-oriented programming"
     ]
    },
    {
     "cell_type": "markdown",
     "metadata": {},
     "source": [
      "Write a Particle class that can be used to represent a particle with a mass, a 3-d position, and a 3-d velocity.\n",
      "Write a method that can be used to compute the kinetic energy of the particle\n",
      "Write a method that takes another particle as an argument and finds the distance between the two particles\n",
      "Write a method that given a time interval dt will update the position of the particle to the new position based on the current position and velocity.\n",
      "Write a ChargedParticle class that inherits from the Particle class, but also has an attribute for the charge of the particle.\n",
      "Write examples of using these classes to test that the methods are working correctly."
     ]
    },
    {
     "cell_type": "code",
     "collapsed": false,
     "input": [
      "class Particle(object):\n",
      "    \n",
      "    def __init__(self, mass, x, y, z, vx, vy, vz):\n",
      "        self.mass = mass\n",
      "        self.x = x\n",
      "        self.y = y\n",
      "        self.z = z\n",
      "        self.vx = vx\n",
      "        self.vy = vy\n",
      "        self.vz = vz\n",
      "    \n",
      "    def kinetic_energy(self):\n",
      "        return 0.5 * self.mass * np.sqrt(self.vx ** 2 +\n",
      "                                         self.vy ** 2 +\n",
      "                                         self.vz ** 2)\n",
      "    \n",
      "    def distance(self, other):\n",
      "        return np.sqrt((self.x - other.x) ** 2 +\n",
      "                       (self.y - other.y) ** 2 +\n",
      "                       (self.z - other.z) ** 2)\n",
      "    \n",
      "    def move(self, dt):\n",
      "        self.x = self.x + self.vx * dt\n",
      "        self.y = self.y + self.vy * dt\n",
      "        self.z = self.z + self.vz * dt\n",
      "        \n",
      "class ChargedParticle(Particle):\n",
      "    \n",
      "    def __init__(self, mass, x, y, z, vx, vy, vz, charge):\n",
      "        Particle.__init__(self, mass, x, y, z, vx, vy, vz)\n",
      "        self.charge = charge"
     ],
     "language": "python",
     "metadata": {},
     "outputs": [],
     "prompt_number": 76
    },
    {
     "cell_type": "code",
     "collapsed": false,
     "input": [
      "p1 = Particle(2., 1., 2., 3., 1., -3., 4.)"
     ],
     "language": "python",
     "metadata": {},
     "outputs": [],
     "prompt_number": 77
    },
    {
     "cell_type": "code",
     "collapsed": false,
     "input": [
      "p1.kinetic_energy()"
     ],
     "language": "python",
     "metadata": {},
     "outputs": [
      {
       "output_type": "pyout",
       "prompt_number": 78,
       "text": [
        "5.0990195135927845"
       ]
      }
     ],
     "prompt_number": 78
    },
    {
     "cell_type": "code",
     "collapsed": false,
     "input": [
      "p1.move(1.)"
     ],
     "language": "python",
     "metadata": {},
     "outputs": [],
     "prompt_number": 79
    },
    {
     "cell_type": "code",
     "collapsed": false,
     "input": [
      "print(p1.x, p1.y, p1.z)"
     ],
     "language": "python",
     "metadata": {},
     "outputs": [
      {
       "output_type": "stream",
       "stream": "stdout",
       "text": [
        "2.0 -1.0 7.0\n"
       ]
      }
     ],
     "prompt_number": 80
    },
    {
     "cell_type": "code",
     "collapsed": false,
     "input": [
      "p1.move(1.)"
     ],
     "language": "python",
     "metadata": {},
     "outputs": [],
     "prompt_number": 81
    },
    {
     "cell_type": "code",
     "collapsed": false,
     "input": [
      "print(p1.x, p1.y, p1.z)"
     ],
     "language": "python",
     "metadata": {},
     "outputs": [
      {
       "output_type": "stream",
       "stream": "stdout",
       "text": [
        "3.0 -4.0 11.0\n"
       ]
      }
     ],
     "prompt_number": 82
    },
    {
     "cell_type": "code",
     "collapsed": false,
     "input": [
      "p2 = ChargedParticle(3., 4., 3., -2., -2., 3., 2., -1.)"
     ],
     "language": "python",
     "metadata": {},
     "outputs": [],
     "prompt_number": 83
    },
    {
     "cell_type": "code",
     "collapsed": false,
     "input": [
      "p1.distance(p2)"
     ],
     "language": "python",
     "metadata": {},
     "outputs": [
      {
       "output_type": "pyout",
       "prompt_number": 84,
       "text": [
        "14.798648586948742"
       ]
      }
     ],
     "prompt_number": 84
    }
   ],
   "metadata": {}
  }
 ]
}
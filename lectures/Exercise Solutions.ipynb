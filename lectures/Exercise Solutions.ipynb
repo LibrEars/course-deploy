{
 "metadata": {
  "name": "",
  "signature": "sha256:65983449eab7f76aebcedb27eeacfcaae02f11aaab0bfecca5f729c44eeb4edb"
 },
 "nbformat": 3,
 "nbformat_minor": 0,
 "worksheets": [
  {
   "cells": [
    {
     "cell_type": "markdown",
     "metadata": {},
     "source": [
      "Nothing here yet :)"
     ]
    }
   ],
   "metadata": {}
  }
 ]
}
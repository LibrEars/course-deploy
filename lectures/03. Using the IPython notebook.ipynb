{
 "metadata": {
  "name": "",
  "signature": "sha256:478eea47a1bea44d235d128005aea33e2bd380014f87071f65c59e6ebe479dec"
 },
 "nbformat": 3,
 "nbformat_minor": 0,
 "worksheets": [
  {
   "cells": [
    {
     "cell_type": "heading",
     "level": 1,
     "metadata": {},
     "source": [
      "Using the IPython notebook"
     ]
    },
    {
     "cell_type": "markdown",
     "metadata": {},
     "source": [
      "The IPython *notebook* is a new feature that has been implemented into IPython, and allows you to write notebooks similar to e.g. Mathematica. The advantage of doing this is that you can include text, code, and plots in the same document. This makes it ideal for example to write up a report about a project that uses mostly Python code, in order to share with others. In fact, the notes for this course are written using the IPython notebook!\n",
      "\n",
      "It is of course possible to run Python without using the IPython notebook, and we will look at those later in the course."
     ]
    },
    {
     "cell_type": "heading",
     "level": 2,
     "metadata": {},
     "source": [
      "Starting up"
     ]
    },
    {
     "cell_type": "markdown",
     "metadata": {},
     "source": [
      "If you are using the CIP pool computers, you will first need to make sure the following command gets run when you log in:\n",
      "\n",
      "    export PATH=/local/py4sci/anaconda3/bin:$PATH\n",
      "\n",
      "Add this line to a file called ``.bashrc`` in your home directory.\n",
      "\n",
      "Next, go to the ``py4sci`` directory containing the course notes. Then start up the IPython notebook with:\n",
      "\n",
      "    ipython notebook\n",
      "    \n",
      "On the CIP machines, if you have issues with the default browser, you can do:\n",
      "\n",
      "    ipython notebook --browser=/local/py4sci/firefox/firefox\n",
      "\n",
      "Once you do this, your web browser should open and go to a page showing a list of notebooks in the current directory (which you likely won't have any of).\n",
      "\n",
      "**NOTE:** when on the CIP pool machines, do not start up the notebook inside your home directory, because the notebook is not very secure, so it's best to start it up in a directory that only has files relevant to the course (otherwise there is a risk other people will see your files).\n",
      "\n",
      "Click on ``New Notebook`` on the right, which will start a new document. You can change the name of the document by clicking on the **Untitled** name at the top and entering a new name. Make sure you then save the document (note that the IPython notebook has no auto-save, so you need to make sure that you save regularly as you will lose content if you close the browser window!). The document will be saved in the directory that you started the notebook in."
     ]
    },
    {
     "cell_type": "heading",
     "level": 2,
     "metadata": {},
     "source": [
      "First steps"
     ]
    },
    {
     "cell_type": "markdown",
     "metadata": {},
     "source": [
      "At first glance, a notebook looks like a fairly typical application - it has a menubar (File, Edit, View, etc.) and a tool bar with icons. Below this, you will see an empty cell, in which you can type any Python code. You can write several lines of code, and once it is ready to run, you can press shift-enter and it will get executed:"
     ]
    },
    {
     "cell_type": "code",
     "collapsed": false,
     "input": [
      "a = 1\n",
      "print(a)"
     ],
     "language": "python",
     "metadata": {},
     "outputs": [
      {
       "output_type": "stream",
       "stream": "stdout",
       "text": [
        "1\n"
       ]
      }
     ],
     "prompt_number": 1
    },
    {
     "cell_type": "markdown",
     "metadata": {},
     "source": [
      "You can then click on that cell, change the Python code, and press shift-enter again to re-execute the code. Once you have executed a cell once, a new cell will appear below. You can again enter some code, then press shift-enter to execute it."
     ]
    },
    {
     "cell_type": "heading",
     "level": 2,
     "metadata": {},
     "source": [
      "Plotting"
     ]
    },
    {
     "cell_type": "markdown",
     "metadata": {},
     "source": [
      "To make plots, enter any Matplotlib commands (see later lectures), and just press shift-enter - note that all commands for a plot should be entered in one cell, you cannot split it up over multiple cells:"
     ]
    },
    {
     "cell_type": "code",
     "collapsed": false,
     "input": [
      "%matplotlib inline\n",
      "import matplotlib.pyplot as plt\n",
      "plt.plot([1,2,3],[4,5,6])\n",
      "plt.xlabel(\"x\")\n",
      "plt.ylabel(\"y\")"
     ],
     "language": "python",
     "metadata": {},
     "outputs": [
      {
       "metadata": {},
       "output_type": "pyout",
       "prompt_number": 2,
       "text": [
        "<matplotlib.text.Text at 0x103c3f128>"
       ]
      },
      {
       "metadata": {},
       "output_type": "display_data",
       "png": "[encoded data removed]",
       "text": [
        "<matplotlib.figure.Figure at 0x10243a128>"
       ]
      }
     ],
     "prompt_number": 2
    },
    {
     "cell_type": "markdown",
     "metadata": {},
     "source": [
      "As before, you can always go back and edit the cell to re-make the plot. If you want to save it, make sure you include ``plt.savefig`` as the last command."
     ]
    },
    {
     "cell_type": "heading",
     "level": 2,
     "metadata": {},
     "source": [
      "Text"
     ]
    },
    {
     "cell_type": "markdown",
     "metadata": {},
     "source": [
      "It is likely that you will want to enter actual text (non-code) in the notebook. To do this, click on a cell, and in the drop-down menu in the toolbar, select 'Markdown'. This is a specific type of syntax for writing text. You can just write text normally and press shift-enter to *render* it:\n",
      "\n",
      "    This is some plain text\n",
      "\n",
      "To edit it, double click on the cell. You can also enter section headings using the following syntax:\n",
      "\n",
      "    This is a title\n",
      "    ===============\n",
      "\n",
      "    This is a sub-title\n",
      "    -------------------\n",
      "\n",
      "which will look like:\n",
      "\n",
      "This is a title\n",
      "===============\n",
      "\n",
      "This is a sub-title\n",
      "-------------------\n",
      "\n",
      "Finally, if you are familiar with LaTeX, you can enter equations using:\n",
      "\n",
      "    $$E = m c^2$$\n",
      "\n",
      "on a separate line, or:\n",
      "\n",
      "    The equation $p=h/\\lambda$ is very important\n",
      "\n",
      "to include it in a sentence. This will look like:\n",
      "\n",
      "$$E = m c^2$$\n",
      "\n",
      "The equation $p=h/\\lambda$ is very important\n",
      "\n",
      "For more information about using LaTeX for equations, see [this guide](http://en.wikibooks.org/wiki/LaTeX/Mathematics)."
     ]
    },
    {
     "cell_type": "heading",
     "level": 2,
     "metadata": {},
     "source": [
      "Splitting/deleting/moving cells"
     ]
    },
    {
     "cell_type": "markdown",
     "metadata": {},
     "source": [
      "You can split, delete, and move cells by going to 'Edit' and selecting the appropriate command. Some of the commands are also available in the toolbar - put your mouse over the icon and wait for a second, and it will tell you what it does."
     ]
    },
    {
     "cell_type": "heading",
     "level": 2,
     "metadata": {},
     "source": [
      "Sharing your notebook"
     ]
    },
    {
     "cell_type": "markdown",
     "metadata": {},
     "source": [
      "Note: for now, the following section is a little manual, but the IPython developers are currently working on a much easier way to publish notebooks.\n",
      "\n",
      "Once you are happy with your notebook, you can share it with other people. The file containing your notebook is the ``.ipynb`` file that is in the directory in which you started the notebook and has the correct name. We need to get this file online, so one way to do with (which we will use here) is to open the ``.ipynb`` file in your normal code editor (you can do this while the notebook is open, but don't make any changes to the file!), then select all, and copy. Then, go to [http://gist.github.com](http://gist.github.com) and paste the content, then click 'Create Public Gist'.\n",
      "\n",
      "In the address bar, copy the 'id' of the gist, which will look something like ``5794970`` or ``bc960df2fc71675fc85a``. Then, go to [http://nbviewer.ipython.org/](http://nbviewer.ipython.org/) and enter the number in the form, and click 'Go!' - your notebook should now be visible, and you can send the address to others to share your notebook."
     ]
    },
    {
     "cell_type": "heading",
     "level": 2,
     "metadata": {},
     "source": [
      "Important notes"
     ]
    },
    {
     "cell_type": "markdown",
     "metadata": {},
     "source": [
      "A few important notes about using the notebook:\n",
      "\n",
      "* Save often! There is currently no auto-save in the notebook, so you will lose your changes if you close the browser window.\n",
      "\n",
      "* Code *can* be executed in an order different from top to bottom, but note that if you do this variables will not be reset. So for example if you type:"
     ]
    },
    {
     "cell_type": "code",
     "collapsed": false,
     "input": [
      "a = 1"
     ],
     "language": "python",
     "metadata": {},
     "outputs": [],
     "prompt_number": 3
    },
    {
     "cell_type": "markdown",
     "metadata": {},
     "source": [
      "then go higher up and type:"
     ]
    },
    {
     "cell_type": "code",
     "collapsed": false,
     "input": [
      "print(a)"
     ],
     "language": "python",
     "metadata": {},
     "outputs": [
      {
       "output_type": "stream",
       "stream": "stdout",
       "text": [
        "1\n"
       ]
      }
     ],
     "prompt_number": 4
    },
    {
     "cell_type": "markdown",
     "metadata": {},
     "source": [
      "it will give the value you previously set. To make sure that your code works from top to bottom, go to the 'Cell' menu item and go to 'All Output -> Clear' then in the 'Cell' menu, select 'Run All'. "
     ]
    }
   ],
   "metadata": {}
  }
 ]
}
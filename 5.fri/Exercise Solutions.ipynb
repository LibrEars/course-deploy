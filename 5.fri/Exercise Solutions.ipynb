{
 "metadata": {
  "name": "",
  "signature": "sha256:bb80bae07db19f7c929644ec6f13829b755a0197b2af365f5d680c68341084be"
 },
 "nbformat": 3,
 "nbformat_minor": 0,
 "worksheets": [
  {
   "cells": [
    {
     "cell_type": "heading",
     "level": 2,
     "metadata": {},
     "source": [
      "18. Accessing remote resources"
     ]
    },
    {
     "cell_type": "code",
     "collapsed": false,
     "input": [
      "import requests\n",
      "import numpy as np\n",
      "\n",
      "# We can store the base URL in a constant\n",
      "URL = \"http://mpia.de/~robitaille/share/ice_data/{year:04d}{month:02d}{day:02d}.npy\"\n",
      "\n",
      "def get_map(year, month, day):\n",
      "    \n",
      "    result = requests.get(URL.format(year=year, month=month, day=day))\n",
      "    \n",
      "    # For requests, it turns out that if the file is not\n",
      "    # found no error is raised but ``status_code`` is set\n",
      "    # to 404:\n",
      "    if result.status_code == 404:\n",
      "        return None\n",
      "    \n",
      "    with open('temporary.npy', 'wb') as f:\n",
      "        f.write(result.content)\n",
      "    \n",
      "    return np.load('temporary.npy')"
     ],
     "language": "python",
     "metadata": {},
     "outputs": []
    },
    {
     "cell_type": "code",
     "collapsed": false,
     "input": [
      "m = get_map(2010, 12, 3)"
     ],
     "language": "python",
     "metadata": {},
     "outputs": []
    },
    {
     "cell_type": "code",
     "collapsed": false,
     "input": [
      "%matplotlib inline\n",
      "import matplotlib.pyplot as plt"
     ],
     "language": "python",
     "metadata": {},
     "outputs": []
    },
    {
     "cell_type": "code",
     "collapsed": false,
     "input": [
      "plt.imshow(m)"
     ],
     "language": "python",
     "metadata": {},
     "outputs": []
    },
    {
     "cell_type": "code",
     "collapsed": false,
     "input": [
      "print(get_map(2011,12,3))"
     ],
     "language": "python",
     "metadata": {},
     "outputs": []
    },
    {
     "cell_type": "heading",
     "level": 2,
     "metadata": {},
     "source": [
      "19. Object-oriented programming"
     ]
    },
    {
     "cell_type": "code",
     "collapsed": false,
     "input": [
      "class Particle(object):\n",
      "    \n",
      "    def __init__(self, mass, x, y, z, vx, vy, vz):\n",
      "        self.mass = mass\n",
      "        self.x = x\n",
      "        self.y = y\n",
      "        self.z = z\n",
      "        self.vx = vx\n",
      "        self.vy = vy\n",
      "        self.vz = vz\n",
      "    \n",
      "    def kinetic_energy(self):\n",
      "        return 0.5 * self.mass * np.sqrt(self.vx ** 2 +\n",
      "                                         self.vy ** 2 +\n",
      "                                         self.vz ** 2)\n",
      "    \n",
      "    def distance(self, other):\n",
      "        return np.sqrt((self.x - other.x) ** 2 +\n",
      "                       (self.y - other.y) ** 2 +\n",
      "                       (self.z - other.z) ** 2)\n",
      "    \n",
      "    def move(self, dt):\n",
      "        self.x = self.x + self.vx * dt\n",
      "        self.y = self.y + self.vy * dt\n",
      "        self.z = self.z + self.vz * dt\n",
      "        \n",
      "class ChargedParticle(Particle):\n",
      "    \n",
      "    def __init__(self, mass, x, y, z, vx, vy, vz, charge):\n",
      "        Particle.__init__(self, mass, x, y, z, vx, vy, vz)\n",
      "        self.charge = charge"
     ],
     "language": "python",
     "metadata": {},
     "outputs": []
    },
    {
     "cell_type": "code",
     "collapsed": false,
     "input": [
      "p1 = Particle(2., 1., 2., 3., 1., -3., 4.)"
     ],
     "language": "python",
     "metadata": {},
     "outputs": []
    },
    {
     "cell_type": "code",
     "collapsed": false,
     "input": [
      "p1.kinetic_energy()"
     ],
     "language": "python",
     "metadata": {},
     "outputs": []
    },
    {
     "cell_type": "code",
     "collapsed": false,
     "input": [
      "p1.move(1.)"
     ],
     "language": "python",
     "metadata": {},
     "outputs": []
    },
    {
     "cell_type": "code",
     "collapsed": false,
     "input": [
      "print(p1.x, p1.y, p1.z)"
     ],
     "language": "python",
     "metadata": {},
     "outputs": []
    },
    {
     "cell_type": "code",
     "collapsed": false,
     "input": [
      "p1.move(1.)"
     ],
     "language": "python",
     "metadata": {},
     "outputs": []
    },
    {
     "cell_type": "code",
     "collapsed": false,
     "input": [
      "print(p1.x, p1.y, p1.z)"
     ],
     "language": "python",
     "metadata": {},
     "outputs": []
    },
    {
     "cell_type": "code",
     "collapsed": false,
     "input": [
      "p2 = ChargedParticle(3., 4., 3., -2., -2., 3., 2., -1.)"
     ],
     "language": "python",
     "metadata": {},
     "outputs": []
    },
    {
     "cell_type": "code",
     "collapsed": false,
     "input": [
      "p1.distance(p2)"
     ],
     "language": "python",
     "metadata": {},
     "outputs": []
    }
   ],
   "metadata": {}
  }
 ]
}
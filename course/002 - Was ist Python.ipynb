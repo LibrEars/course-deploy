{
 "cells": [
  {
   "cell_type": "markdown",
   "metadata": {},
   "source": [
    "# Was ist Python?"
   ]
  },
  {
   "cell_type": "markdown",
   "metadata": {
    "slideshow": {
     "slide_type": "notes"
    }
   },
   "source": [
    "![Python Logo](https://www.python.org/static/community_logos/python-logo-master-v3-TM.png)"
   ]
  },
  {
   "cell_type": "markdown",
   "metadata": {},
   "source": [
    "## Zunächst: Was ist Programmieren?"
   ]
  },
  {
   "cell_type": "markdown",
   "metadata": {
    "slideshow": {
     "slide_type": "slide"
    }
   },
   "source": [
    "Viele Aufgaben und Probleme, u.a. in der Wissenschaft, können wir an einen Computer auslagern. Doch dieser benötigt eine exakte Anleitung. Die Aufgabe des Programmierers ist, das Problem konzeptionell zu verstehen und in eine Aneinanderreihung von Befehlen zu übersetzen, die ein Computer ausführen kann.\n",
    "\n",
    "Gut programmieren zu können heißt nicht einfach nur die Programmiersprache zu kennen oder sehr schnelle Programme zu schreiben, sondern auch:\n",
    "\n",
    "- ein Problem aufzuteilen bis einzelne Teilprobleme von einem Computer gelöst werden können, und diese wieder zusammenzusetzen\n",
    "- sich passender Tools zu bedienen, wenn diese bereits ein Teilproblem lösen\n",
    "- ein Programm systematisch untersuchen zu können, bspw. um Fehler zu finden\n",
    "- Programme zu schreiben, die **schnell genug** sind, und nicht so schnell wie irgend möglich\n",
    "- Programme zu schreiben, die auch eine andere Person versteht (oder Sie selbst noch im nächsten Jahr)\n",
    "\n",
    "> Der letzte Punkt ist gerade in der Wissenschaft unter den Stichwörtern der **Reproduzierbarkeit** und **_open science_** von größter Wichtigkeit. Es bedeutet, dass auch andere Ihr Programm verstehen und selbst ausführen können und dabei die gleichen Resultate erhalten wie Sie. Sie sollten Code immer mit der Annahme schreiben, dass andere Personen ihn lesen werden."
   ]
  },
  {
   "cell_type": "markdown",
   "metadata": {},
   "source": [
    "## Wie unterscheidet sich Python von anderen Programmiersprachen?"
   ]
  },
  {
   "cell_type": "markdown",
   "metadata": {
    "slideshow": {
     "slide_type": "slide"
    }
   },
   "source": [
    "Python ist eine _interpretierte_ Programmiersprache, d.h. der Code wird nicht kompiliert bevor er ausgeführt wird. Dadurch ist ein Python-Programm in der Regel langsamer als ein Äquivalentes, das bspw. in C, C++ oder Fortran geschrieben wurde. Warum programmieren wir also in Python?\n",
    "\n",
    "- Die Syntax ist so einfach und übersichtlich, dass sich Python Code häufig schon fast wie Englisch liest.\n",
    "- Es kann sehr viel schneller gehen ein Python Programm zu schreiben, das tut was man erwartet, als in vielen anderen Sprachen.\n",
    "- Ein Python Programm kann recht einfach externen Code in anderen Sprachen aufrufen, sodass rechenintensive Operationen in C oder Fortran ausgelagert werden können. Numerische _packages_, die wir in der Wissenschaft verwenden, machen sich dies zu nutze. So erhalten wir die Annehmlichkeit von Python und die Geschwindigkeit von C!\n",
    "- In diesem Einführungskurs liegt der Fokus auf Aspekten der Programmierung, die in der wissenschaftlichen Anwendung besonders wichtig oder praktisch sind. Python ist jedoch eine beliebte und sehr vielseitige Sprache und wird auch in vielen anderen Bereichen verwendet. Was Sie hier lernen, können Sie bspw. auch zum Schreiben von [Webanwendungen](link_to_django) oder [Spielen](link_to_pygame) anwenden!"
   ]
  },
  {
   "cell_type": "markdown",
   "metadata": {},
   "source": [
    "## Woher kommt der Name _Python_?"
   ]
  },
  {
   "cell_type": "markdown",
   "metadata": {
    "slideshow": {
     "slide_type": "slide"
    }
   },
   "source": [
    "Obwohl das Python Logo Schlangen enthält kommt der Name _Python_ ursprünglich von der [Monty Python](http://en.wikipedia.org/wiki/Monty_Python) Comedy Gruppe!\n",
    "\n",
    "![](http://mpia.de/~robitaille/python/monty-python.jpg)\n",
    "\n",
    "Aus diesem Grund enthält die offizielle Python Dokumentation viele Referenzen zu Monty Python."
   ]
  },
  {
   "cell_type": "markdown",
   "metadata": {},
   "source": [
    "## Ein Hinweis zu Python Versionen 2 und 3"
   ]
  },
  {
   "cell_type": "markdown",
   "metadata": {
    "slideshow": {
     "slide_type": "slide"
    }
   },
   "source": [
    "Python liegt momentan in Version 3 vor, doch viele verwenden noch immer die Version 2.7, da noch nicht alle Pakete mit Version 3 kompatibel sind. In diesem Kurs lernen wir die Python 3 Syntax, doch an den entsprechenden Stellen zeige ich die wichtigsten Änderungen, falls Sie mal mit dem älteren Python 2 arbeiten müssen."
   ]
  }
 ],
 "metadata": {
  "kernelspec": {
   "display_name": "Python 3",
   "language": "python",
   "name": "python3"
  },
  "language_info": {
   "codemirror_mode": {
    "name": "ipython",
    "version": 3
   },
   "file_extension": ".py",
   "mimetype": "text/x-python",
   "name": "python",
   "nbconvert_exporter": "python",
   "pygments_lexer": "ipython3",
   "version": "3.5.1"
  }
 },
 "nbformat": 4,
 "nbformat_minor": 0
}

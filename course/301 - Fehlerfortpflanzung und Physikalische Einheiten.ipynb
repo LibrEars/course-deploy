{
 "cells": [
  {
   "cell_type": "markdown",
   "metadata": {},
   "source": [
    "# Fehlerfortpflanzung"
   ]
  },
  {
   "cell_type": "code",
   "execution_count": 141,
   "metadata": {
    "collapsed": true
   },
   "outputs": [],
   "source": [
    "import numpy as np"
   ]
  },
  {
   "cell_type": "code",
   "execution_count": 142,
   "metadata": {
    "collapsed": false
   },
   "outputs": [],
   "source": [
    "import uncertainties as unc\n",
    "import uncertainties.unumpy as unp"
   ]
  },
  {
   "cell_type": "code",
   "execution_count": 143,
   "metadata": {
    "collapsed": false
   },
   "outputs": [
    {
     "name": "stdout",
     "output_type": "stream",
     "text": [
      "[1.0+/-0.5 3.0+/-1.0 5.0+/-1.5]\n",
      "[8.0+/-0.8 11.0+/-1.1 13.0+/-1.3]\n"
     ]
    }
   ],
   "source": [
    "x = unp.uarray([ 1, 3, 5 ], [ 0.5, 1, 1.5 ]) # absolute Fehler\n",
    "print(x)\n",
    "y = np.array([ 8, 11, 13 ]) * unc.ufloat(1, 0.1) # relative Fehler\n",
    "print(y)"
   ]
  },
  {
   "cell_type": "code",
   "execution_count": 144,
   "metadata": {
    "collapsed": false
   },
   "outputs": [
    {
     "name": "stdout",
     "output_type": "stream",
     "text": [
      "41.0+/-3.7\n",
      "41.0+/-3.7\n"
     ]
    }
   ],
   "source": [
    "print(np.sum(x + y))\n",
    "print(np.sum(x) + np.sum(y))"
   ]
  },
  {
   "cell_type": "code",
   "execution_count": 145,
   "metadata": {
    "collapsed": false
   },
   "outputs": [
    {
     "name": "stdout",
     "output_type": "stream",
     "text": [
      "[0.0+/-0 0.0+/-0 0.0+/-0]\n"
     ]
    }
   ],
   "source": [
    "print(x - x)"
   ]
  },
  {
   "cell_type": "code",
   "execution_count": 146,
   "metadata": {
    "collapsed": false
   },
   "outputs": [],
   "source": [
    "import matplotlib.pyplot as plt\n",
    "%matplotlib inline\n",
    "def plot_data(xdata, ydata, ax=plt, **kwargs):\n",
    "    xerr = unp.std_devs(xdata)\n",
    "    if np.sum(xerr)==0:\n",
    "        xerr = None\n",
    "    yerr = unp.std_devs(ydata)\n",
    "    if np.sum(yerr)==0:\n",
    "        yerr = None\n",
    "    if not ('ls' in kwargs or 'linestyle' in kwargs):\n",
    "        kwargs['ls'] = 'none'\n",
    "    if not 'marker' in kwargs:\n",
    "        kwargs['marker'] = '.'\n",
    "    return ax.errorbar(unp.nominal_values(xdata), unp.nominal_values(ydata), xerr=xerr, yerr=yerr, **kwargs)"
   ]
  },
  {
   "cell_type": "code",
   "execution_count": 147,
   "metadata": {
    "collapsed": false
   },
   "outputs": [
    {
     "data": {
      "text/plain": [
       "<Container object of 3 artists>"
      ]
     },
     "execution_count": 147,
     "metadata": {},
     "output_type": "execute_result"
    },
    {
     "name": "stderr",
     "output_type": "stream",
     "text": [
      "/Users/knl/.virtualenvs/scientific/lib/python3.5/site-packages/matplotlib/collections.py:590: FutureWarning: elementwise comparison failed; returning scalar instead, but in the future will perform elementwise comparison\n",
      "  if self._edgecolors == str('face'):\n"
     ]
    },
    {
     "data": {
      "image/png": "[encoded data removed]",
      "text/plain": [
       "<matplotlib.figure.Figure at 0x108577208>"
      ]
     },
     "metadata": {},
     "output_type": "display_data"
    }
   ],
   "source": [
    "plot_data(x, y)"
   ]
  },
  {
   "cell_type": "markdown",
   "metadata": {},
   "source": [
    "# Physikalische Einheiten"
   ]
  },
  {
   "cell_type": "code",
   "execution_count": 148,
   "metadata": {
    "collapsed": true
   },
   "outputs": [],
   "source": [
    "import pint\n",
    "units = pint.UnitRegistry()\n",
    "Q_ = units.Quantity\n",
    "units.default_format = '~P'"
   ]
  },
  {
   "cell_type": "code",
   "execution_count": 149,
   "metadata": {
    "collapsed": false
   },
   "outputs": [
    {
     "data": {
      "text/html": [
       "10.0 meter/second"
      ],
      "text/latex": [
       "$10.0 \\frac{meter}{second}$"
      ],
      "text/plain": [
       "<Quantity(10.0, 'meter / second')>"
      ]
     },
     "execution_count": 149,
     "metadata": {},
     "output_type": "execute_result"
    }
   ],
   "source": [
    "a = 10 * units.m/units.s\n",
    "a"
   ]
  },
  {
   "cell_type": "code",
   "execution_count": 150,
   "metadata": {
    "collapsed": false
   },
   "outputs": [
    {
     "name": "stdout",
     "output_type": "stream",
     "text": [
      "10.0 m/s 10.0 \\frac{m}{s}\n"
     ]
    }
   ],
   "source": [
    "print(a, \"{:~L}\".format(a))"
   ]
  },
  {
   "cell_type": "code",
   "execution_count": 151,
   "metadata": {
    "collapsed": false
   },
   "outputs": [
    {
     "name": "stdout",
     "output_type": "stream",
     "text": [
      "23.5 celsius 296.65 K\n"
     ]
    }
   ],
   "source": [
    "T_0 = Q_(23.5, units.degC)\n",
    "print(T_0, T_0.to(units.K))"
   ]
  },
  {
   "cell_type": "code",
   "execution_count": 152,
   "metadata": {
    "collapsed": false
   },
   "outputs": [
    {
     "name": "stdout",
     "output_type": "stream",
     "text": [
      "0.5 Δcelsius/s 0.5 K/s\n"
     ]
    }
   ],
   "source": [
    "heating_rate = 0.5 * units.delta_degC / units.s\n",
    "print(heating_rate, heating_rate.to(units.K / units.s))"
   ]
  },
  {
   "cell_type": "code",
   "execution_count": 153,
   "metadata": {
    "collapsed": false
   },
   "outputs": [
    {
     "name": "stdout",
     "output_type": "stream",
     "text": [
      "323.5 celsius\n"
     ]
    }
   ],
   "source": [
    "print(T_0 + 10 * units.minute * heating_rate)"
   ]
  },
  {
   "cell_type": "code",
   "execution_count": 171,
   "metadata": {
    "collapsed": false
   },
   "outputs": [],
   "source": [
    "u = x * units.s\n",
    "v = y * units.m"
   ]
  },
  {
   "cell_type": "code",
   "execution_count": 178,
   "metadata": {
    "collapsed": true
   },
   "outputs": [],
   "source": [
    "def plot_labels(xdata, ydata):\n",
    "    plt.xlabel(\"${:~P}$\".format(xdata.units))\n",
    "    plt.ylabel(\"${:~P}$\".format(ydata.units))"
   ]
  },
  {
   "cell_type": "code",
   "execution_count": 179,
   "metadata": {
    "collapsed": false
   },
   "outputs": [
    {
     "name": "stderr",
     "output_type": "stream",
     "text": [
      "/Users/knl/.virtualenvs/scientific/lib/python3.5/site-packages/matplotlib/collections.py:590: FutureWarning: elementwise comparison failed; returning scalar instead, but in the future will perform elementwise comparison\n",
      "  if self._edgecolors == str('face'):\n"
     ]
    },
    {
     "data": {
      "image/png": "[encoded data removed]",
      "text/plain": [
       "<matplotlib.figure.Figure at 0x108c7ce48>"
      ]
     },
     "metadata": {},
     "output_type": "display_data"
    }
   ],
   "source": [
    "plot_data(u.magnitude, v.magnitude)\n",
    "plot_labels(u, v)"
   ]
  },
  {
   "cell_type": "code",
   "execution_count": null,
   "metadata": {
    "collapsed": true
   },
   "outputs": [],
   "source": []
  }
 ],
 "metadata": {
  "kernelspec": {
   "display_name": "Python 3",
   "language": "python",
   "name": "python3"
  },
  "language_info": {
   "codemirror_mode": {
    "name": "ipython",
    "version": 3
   },
   "file_extension": ".py",
   "mimetype": "text/x-python",
   "name": "python",
   "nbconvert_exporter": "python",
   "pygments_lexer": "ipython3",
   "version": "3.5.0"
  }
 },
 "nbformat": 4,
 "nbformat_minor": 0
}
